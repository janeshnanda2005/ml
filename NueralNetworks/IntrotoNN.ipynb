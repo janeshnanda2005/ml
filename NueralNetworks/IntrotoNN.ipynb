{
  "nbformat": 4,
  "nbformat_minor": 0,
  "metadata": {
    "colab": {
      "provenance": [],
      "authorship_tag": "ABX9TyPv7b2Bv8u/XGjb3FwXHnSH",
      "include_colab_link": true
    },
    "kernelspec": {
      "name": "python3",
      "display_name": "Python 3"
    },
    "language_info": {
      "name": "python"
    }
  },
  "cells": [
    {
      "cell_type": "markdown",
      "metadata": {
        "id": "view-in-github",
        "colab_type": "text"
      },
      "source": [
        "<a href=\"https://colab.research.google.com/github/janesh-kiddev/Datasets/blob/main/IntrotoNN.ipynb\" target=\"_parent\"><img src=\"https://colab.research.google.com/assets/colab-badge.svg\" alt=\"Open In Colab\"/></a>"
      ]
    },
    {
      "cell_type": "code",
      "execution_count": 24,
      "metadata": {
        "id": "9OwV10ARszqe"
      },
      "outputs": [],
      "source": [
        "import numpy as np\n",
        "import tensorflow as tf"
      ]
    },
    {
      "cell_type": "code",
      "source": [
        "x = np.array([[20,180],[90,150],[78,60],[98,45],[78,45]])\n",
        "y = np.array([120,90,60,45,78])"
      ],
      "metadata": {
        "id": "3vRwNHibtRrk"
      },
      "execution_count": 25,
      "outputs": []
    },
    {
      "cell_type": "code",
      "source": [
        "model = tf.keras.Sequential([\n",
        "    tf.keras.layers.Dense(units = 3,input_shape=[2],activation ='relu'),\n",
        "    tf.keras.layers.Dense(128,activation = 'relu'),\n",
        "    tf.keras.layers.Dense(1,activation = 'linear')]\n",
        ")"
      ],
      "metadata": {
        "id": "-YLbH51IuIZu"
      },
      "execution_count": 26,
      "outputs": []
    },
    {
      "cell_type": "code",
      "source": [
        "model.summary()"
      ],
      "metadata": {
        "colab": {
          "base_uri": "https://localhost:8080/"
        },
        "id": "llxZyvGRvU7A",
        "outputId": "3b42a7bc-54d8-41c2-a014-f56e4b082e89"
      },
      "execution_count": 27,
      "outputs": [
        {
          "output_type": "stream",
          "name": "stdout",
          "text": [
            "Model: \"sequential_3\"\n",
            "_________________________________________________________________\n",
            " Layer (type)                Output Shape              Param #   \n",
            "=================================================================\n",
            " dense_9 (Dense)             (None, 3)                 9         \n",
            "                                                                 \n",
            " dense_10 (Dense)            (None, 128)               512       \n",
            "                                                                 \n",
            " dense_11 (Dense)            (None, 1)                 129       \n",
            "                                                                 \n",
            "=================================================================\n",
            "Total params: 650 (2.54 KB)\n",
            "Trainable params: 650 (2.54 KB)\n",
            "Non-trainable params: 0 (0.00 Byte)\n",
            "_________________________________________________________________\n"
          ]
        }
      ]
    },
    {
      "cell_type": "code",
      "source": [
        "model.compile(loss=\"mean_squared_error\", optimizer = tf.keras.optimizers.Adam(0.1))"
      ],
      "metadata": {
        "id": "eoZDvtKCvybe"
      },
      "execution_count": 28,
      "outputs": []
    },
    {
      "cell_type": "code",
      "source": [
        "model.fit(x,y,epochs = 25)"
      ],
      "metadata": {
        "colab": {
          "base_uri": "https://localhost:8080/"
        },
        "id": "XeaOurpPwIm3",
        "outputId": "0200e221-7fbd-46fb-a171-70783096c3b3"
      },
      "execution_count": 29,
      "outputs": [
        {
          "output_type": "stream",
          "name": "stdout",
          "text": [
            "Epoch 1/25\n",
            "1/1 [==============================] - 1s 931ms/step - loss: 6709.2290\n",
            "Epoch 2/25\n",
            "1/1 [==============================] - 0s 14ms/step - loss: 5297.9521\n",
            "Epoch 3/25\n",
            "1/1 [==============================] - 0s 11ms/step - loss: 4987.1748\n",
            "Epoch 4/25\n",
            "1/1 [==============================] - 0s 12ms/step - loss: 4797.9897\n",
            "Epoch 5/25\n",
            "1/1 [==============================] - 0s 12ms/step - loss: 4618.2690\n",
            "Epoch 6/25\n",
            "1/1 [==============================] - 0s 12ms/step - loss: 3963.2593\n",
            "Epoch 7/25\n",
            "1/1 [==============================] - 0s 11ms/step - loss: 3324.8228\n",
            "Epoch 8/25\n",
            "1/1 [==============================] - 0s 11ms/step - loss: 2872.9460\n",
            "Epoch 9/25\n",
            "1/1 [==============================] - 0s 11ms/step - loss: 2944.8606\n",
            "Epoch 10/25\n",
            "1/1 [==============================] - 0s 10ms/step - loss: 3611.8918\n",
            "Epoch 11/25\n",
            "1/1 [==============================] - 0s 11ms/step - loss: 2199.5723\n",
            "Epoch 12/25\n",
            "1/1 [==============================] - 0s 11ms/step - loss: 2113.4470\n",
            "Epoch 13/25\n",
            "1/1 [==============================] - 0s 10ms/step - loss: 734.4273\n",
            "Epoch 14/25\n",
            "1/1 [==============================] - 0s 10ms/step - loss: 1850.8918\n",
            "Epoch 15/25\n",
            "1/1 [==============================] - 0s 12ms/step - loss: 452.5075\n",
            "Epoch 16/25\n",
            "1/1 [==============================] - 0s 14ms/step - loss: 730.7494\n",
            "Epoch 17/25\n",
            "1/1 [==============================] - 0s 10ms/step - loss: 871.5538\n",
            "Epoch 18/25\n",
            "1/1 [==============================] - 0s 11ms/step - loss: 287.9188\n",
            "Epoch 19/25\n",
            "1/1 [==============================] - 0s 10ms/step - loss: 637.8284\n",
            "Epoch 20/25\n",
            "1/1 [==============================] - 0s 10ms/step - loss: 642.9884\n",
            "Epoch 21/25\n",
            "1/1 [==============================] - 0s 10ms/step - loss: 206.7754\n",
            "Epoch 22/25\n",
            "1/1 [==============================] - 0s 11ms/step - loss: 505.4307\n",
            "Epoch 23/25\n",
            "1/1 [==============================] - 0s 10ms/step - loss: 536.3118\n",
            "Epoch 24/25\n",
            "1/1 [==============================] - 0s 10ms/step - loss: 216.1969\n",
            "Epoch 25/25\n",
            "1/1 [==============================] - 0s 10ms/step - loss: 338.1784\n"
          ]
        },
        {
          "output_type": "execute_result",
          "data": {
            "text/plain": [
              "<keras.src.callbacks.History at 0x7a9887684700>"
            ]
          },
          "metadata": {},
          "execution_count": 29
        }
      ]
    },
    {
      "cell_type": "code",
      "source": [
        "model.predict([[19,150]])"
      ],
      "metadata": {
        "colab": {
          "base_uri": "https://localhost:8080/"
        },
        "id": "1VHDBH8owTpf",
        "outputId": "c09c6306-1374-4078-9182-510bfd89ad33"
      },
      "execution_count": 30,
      "outputs": [
        {
          "output_type": "stream",
          "name": "stdout",
          "text": [
            "1/1 [==============================] - 0s 78ms/step\n"
          ]
        },
        {
          "output_type": "execute_result",
          "data": {
            "text/plain": [
              "array([[112.4643]], dtype=float32)"
            ]
          },
          "metadata": {},
          "execution_count": 30
        }
      ]
    }
  ]
}
