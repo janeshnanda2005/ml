{
 "cells": [
  {
   "cell_type": "markdown",
   "id": "408cfc6a",
   "metadata": {
    "papermill": {
     "duration": 0.007602,
     "end_time": "2024-03-30T05:27:21.312610",
     "exception": false,
     "start_time": "2024-03-30T05:27:21.305008",
     "status": "completed"
    },
    "tags": []
   },
   "source": [
    "**This notebook is an exercise in the [Pandas](https://www.kaggle.com/learn/pandas) course.  You can reference the tutorial at [this link](https://www.kaggle.com/residentmario/data-types-and-missing-values).**\n",
    "\n",
    "---\n"
   ]
  },
  {
   "cell_type": "markdown",
   "id": "75116f8a",
   "metadata": {
    "papermill": {
     "duration": 0.005398,
     "end_time": "2024-03-30T05:27:21.323942",
     "exception": false,
     "start_time": "2024-03-30T05:27:21.318544",
     "status": "completed"
    },
    "tags": []
   },
   "source": [
    "# Introduction\n",
    "\n",
    "Run the following cell to load your data and some utility functions."
   ]
  },
  {
   "cell_type": "code",
   "execution_count": 1,
   "id": "54960dad",
   "metadata": {
    "execution": {
     "iopub.execute_input": "2024-03-30T05:27:21.337477Z",
     "iopub.status.busy": "2024-03-30T05:27:21.336764Z",
     "iopub.status.idle": "2024-03-30T05:27:25.296133Z",
     "shell.execute_reply": "2024-03-30T05:27:25.295045Z"
    },
    "papermill": {
     "duration": 3.968919,
     "end_time": "2024-03-30T05:27:25.298517",
     "exception": false,
     "start_time": "2024-03-30T05:27:21.329598",
     "status": "completed"
    },
    "tags": []
   },
   "outputs": [
    {
     "name": "stdout",
     "output_type": "stream",
     "text": [
      "Setup complete.\n"
     ]
    }
   ],
   "source": [
    "import pandas as pd\n",
    "\n",
    "reviews = pd.read_csv(\"../input/wine-reviews/winemag-data-130k-v2.csv\", index_col=0)\n",
    "\n",
    "from learntools.core import binder; binder.bind(globals())\n",
    "from learntools.pandas.data_types_and_missing_data import *\n",
    "print(\"Setup complete.\")"
   ]
  },
  {
   "cell_type": "markdown",
   "id": "866d6527",
   "metadata": {
    "papermill": {
     "duration": 0.005413,
     "end_time": "2024-03-30T05:27:25.310032",
     "exception": false,
     "start_time": "2024-03-30T05:27:25.304619",
     "status": "completed"
    },
    "tags": []
   },
   "source": [
    "# Exercises"
   ]
  },
  {
   "cell_type": "markdown",
   "id": "dc29d9a9",
   "metadata": {
    "papermill": {
     "duration": 0.005454,
     "end_time": "2024-03-30T05:27:25.321124",
     "exception": false,
     "start_time": "2024-03-30T05:27:25.315670",
     "status": "completed"
    },
    "tags": []
   },
   "source": [
    "## 1. \n",
    "What is the data type of the `points` column in the dataset?"
   ]
  },
  {
   "cell_type": "code",
   "execution_count": 2,
   "id": "67d2c82a",
   "metadata": {
    "execution": {
     "iopub.execute_input": "2024-03-30T05:27:25.334320Z",
     "iopub.status.busy": "2024-03-30T05:27:25.333925Z",
     "iopub.status.idle": "2024-03-30T05:27:25.343504Z",
     "shell.execute_reply": "2024-03-30T05:27:25.342611Z"
    },
    "papermill": {
     "duration": 0.019242,
     "end_time": "2024-03-30T05:27:25.345969",
     "exception": false,
     "start_time": "2024-03-30T05:27:25.326727",
     "status": "completed"
    },
    "tags": []
   },
   "outputs": [
    {
     "data": {
      "application/javascript": [
       "parent.postMessage({\"jupyterEvent\": \"custom.exercise_interaction\", \"data\": {\"outcomeType\": 1, \"valueTowardsCompletion\": 0.25, \"interactionType\": 1, \"questionType\": 1, \"questionId\": \"1_PointsDtype\", \"learnToolsVersion\": \"0.3.4\", \"failureMessage\": \"\", \"exceptionClass\": \"\", \"trace\": \"\"}}, \"*\")"
      ],
      "text/plain": [
       "<IPython.core.display.Javascript object>"
      ]
     },
     "metadata": {},
     "output_type": "display_data"
    },
    {
     "data": {
      "text/markdown": [
       "<span style=\"color:#33cc33\">Correct</span>"
      ],
      "text/plain": [
       "Correct"
      ]
     },
     "metadata": {},
     "output_type": "display_data"
    }
   ],
   "source": [
    "# Your code here\n",
    "dtype = reviews.points.dtype\n",
    "\n",
    "# Check your answer\n",
    "q1.check()"
   ]
  },
  {
   "cell_type": "code",
   "execution_count": 3,
   "id": "80f01b46",
   "metadata": {
    "execution": {
     "iopub.execute_input": "2024-03-30T05:27:25.360121Z",
     "iopub.status.busy": "2024-03-30T05:27:25.359785Z",
     "iopub.status.idle": "2024-03-30T05:27:25.363760Z",
     "shell.execute_reply": "2024-03-30T05:27:25.362755Z"
    },
    "papermill": {
     "duration": 0.01371,
     "end_time": "2024-03-30T05:27:25.365955",
     "exception": false,
     "start_time": "2024-03-30T05:27:25.352245",
     "status": "completed"
    },
    "tags": []
   },
   "outputs": [],
   "source": [
    "#q1.hint()\n",
    "#q1.solution()"
   ]
  },
  {
   "cell_type": "markdown",
   "id": "7110c450",
   "metadata": {
    "papermill": {
     "duration": 0.005793,
     "end_time": "2024-03-30T05:27:25.377962",
     "exception": false,
     "start_time": "2024-03-30T05:27:25.372169",
     "status": "completed"
    },
    "tags": []
   },
   "source": [
    "## 2. \n",
    "Create a Series from entries in the `points` column, but convert the entries to strings. Hint: strings are `str` in native Python."
   ]
  },
  {
   "cell_type": "code",
   "execution_count": 4,
   "id": "8967d6b0",
   "metadata": {
    "execution": {
     "iopub.execute_input": "2024-03-30T05:27:25.391970Z",
     "iopub.status.busy": "2024-03-30T05:27:25.391605Z",
     "iopub.status.idle": "2024-03-30T05:27:25.461816Z",
     "shell.execute_reply": "2024-03-30T05:27:25.460797Z"
    },
    "papermill": {
     "duration": 0.080569,
     "end_time": "2024-03-30T05:27:25.464643",
     "exception": false,
     "start_time": "2024-03-30T05:27:25.384074",
     "status": "completed"
    },
    "tags": []
   },
   "outputs": [
    {
     "data": {
      "application/javascript": [
       "parent.postMessage({\"jupyterEvent\": \"custom.exercise_interaction\", \"data\": {\"outcomeType\": 1, \"valueTowardsCompletion\": 0.25, \"interactionType\": 1, \"questionType\": 1, \"questionId\": \"2_StrPoints\", \"learnToolsVersion\": \"0.3.4\", \"failureMessage\": \"\", \"exceptionClass\": \"\", \"trace\": \"\"}}, \"*\")"
      ],
      "text/plain": [
       "<IPython.core.display.Javascript object>"
      ]
     },
     "metadata": {},
     "output_type": "display_data"
    },
    {
     "data": {
      "text/markdown": [
       "<span style=\"color:#33cc33\">Correct</span>"
      ],
      "text/plain": [
       "Correct"
      ]
     },
     "metadata": {},
     "output_type": "display_data"
    }
   ],
   "source": [
    "point_strings = reviews.points.astype('str')\n",
    "\n",
    "# Check your answer\n",
    "q2.check()"
   ]
  },
  {
   "cell_type": "code",
   "execution_count": 5,
   "id": "75cd4796",
   "metadata": {
    "execution": {
     "iopub.execute_input": "2024-03-30T05:27:25.479236Z",
     "iopub.status.busy": "2024-03-30T05:27:25.478869Z",
     "iopub.status.idle": "2024-03-30T05:27:25.482993Z",
     "shell.execute_reply": "2024-03-30T05:27:25.482100Z"
    },
    "papermill": {
     "duration": 0.013831,
     "end_time": "2024-03-30T05:27:25.485039",
     "exception": false,
     "start_time": "2024-03-30T05:27:25.471208",
     "status": "completed"
    },
    "tags": []
   },
   "outputs": [],
   "source": [
    "#q2.hint()\n",
    "#q2.solution()"
   ]
  },
  {
   "cell_type": "markdown",
   "id": "e8684ae3",
   "metadata": {
    "papermill": {
     "duration": 0.006437,
     "end_time": "2024-03-30T05:27:25.498019",
     "exception": false,
     "start_time": "2024-03-30T05:27:25.491582",
     "status": "completed"
    },
    "tags": []
   },
   "source": [
    "## 3.\n",
    "Sometimes the price column is null. How many reviews in the dataset are missing a price?"
   ]
  },
  {
   "cell_type": "code",
   "execution_count": 6,
   "id": "a48c83dd",
   "metadata": {
    "execution": {
     "iopub.execute_input": "2024-03-30T05:27:25.513240Z",
     "iopub.status.busy": "2024-03-30T05:27:25.512515Z",
     "iopub.status.idle": "2024-03-30T05:27:25.522184Z",
     "shell.execute_reply": "2024-03-30T05:27:25.521073Z"
    },
    "papermill": {
     "duration": 0.020031,
     "end_time": "2024-03-30T05:27:25.524614",
     "exception": false,
     "start_time": "2024-03-30T05:27:25.504583",
     "status": "completed"
    },
    "tags": []
   },
   "outputs": [
    {
     "data": {
      "application/javascript": [
       "parent.postMessage({\"jupyterEvent\": \"custom.exercise_interaction\", \"data\": {\"outcomeType\": 1, \"valueTowardsCompletion\": 0.25, \"interactionType\": 1, \"questionType\": 1, \"questionId\": \"3_CountMissingPrices\", \"learnToolsVersion\": \"0.3.4\", \"failureMessage\": \"\", \"exceptionClass\": \"\", \"trace\": \"\"}}, \"*\")"
      ],
      "text/plain": [
       "<IPython.core.display.Javascript object>"
      ]
     },
     "metadata": {},
     "output_type": "display_data"
    },
    {
     "data": {
      "text/markdown": [
       "<span style=\"color:#33cc33\">Correct</span>"
      ],
      "text/plain": [
       "Correct"
      ]
     },
     "metadata": {},
     "output_type": "display_data"
    }
   ],
   "source": [
    "n_missing_prices = reviews.price.isnull().sum()\n",
    "\n",
    "# Check your answer\n",
    "q3.check()"
   ]
  },
  {
   "cell_type": "code",
   "execution_count": 7,
   "id": "857a00bc",
   "metadata": {
    "execution": {
     "iopub.execute_input": "2024-03-30T05:27:25.539720Z",
     "iopub.status.busy": "2024-03-30T05:27:25.539407Z",
     "iopub.status.idle": "2024-03-30T05:27:25.543236Z",
     "shell.execute_reply": "2024-03-30T05:27:25.542188Z"
    },
    "papermill": {
     "duration": 0.013873,
     "end_time": "2024-03-30T05:27:25.545381",
     "exception": false,
     "start_time": "2024-03-30T05:27:25.531508",
     "status": "completed"
    },
    "tags": []
   },
   "outputs": [],
   "source": [
    "#q3.hint()\n",
    "#q3.solution()"
   ]
  },
  {
   "cell_type": "markdown",
   "id": "2057ccb7",
   "metadata": {
    "papermill": {
     "duration": 0.006837,
     "end_time": "2024-03-30T05:27:25.559743",
     "exception": false,
     "start_time": "2024-03-30T05:27:25.552906",
     "status": "completed"
    },
    "tags": []
   },
   "source": [
    "## 4.\n",
    "What are the most common wine-producing regions? Create a Series counting the number of times each value occurs in the `region_1` field. This field is often missing data, so replace missing values with `Unknown`. Sort in descending order.  Your output should look something like this:\n",
    "\n",
    "```\n",
    "Unknown                    21247\n",
    "Napa Valley                 4480\n",
    "                           ...  \n",
    "Bardolino Superiore            1\n",
    "Primitivo del Tarantino        1\n",
    "Name: region_1, Length: 1230, dtype: int64\n",
    "```"
   ]
  },
  {
   "cell_type": "code",
   "execution_count": 8,
   "id": "6220e8a9",
   "metadata": {
    "execution": {
     "iopub.execute_input": "2024-03-30T05:27:25.574958Z",
     "iopub.status.busy": "2024-03-30T05:27:25.574255Z",
     "iopub.status.idle": "2024-03-30T05:27:25.661519Z",
     "shell.execute_reply": "2024-03-30T05:27:25.660406Z"
    },
    "papermill": {
     "duration": 0.097523,
     "end_time": "2024-03-30T05:27:25.663884",
     "exception": false,
     "start_time": "2024-03-30T05:27:25.566361",
     "status": "completed"
    },
    "tags": []
   },
   "outputs": [
    {
     "data": {
      "application/javascript": [
       "parent.postMessage({\"jupyterEvent\": \"custom.exercise_interaction\", \"data\": {\"outcomeType\": 1, \"valueTowardsCompletion\": 0.25, \"interactionType\": 1, \"questionType\": 2, \"questionId\": \"4_ReviewsPerRegion\", \"learnToolsVersion\": \"0.3.4\", \"failureMessage\": \"\", \"exceptionClass\": \"\", \"trace\": \"\"}}, \"*\")"
      ],
      "text/plain": [
       "<IPython.core.display.Javascript object>"
      ]
     },
     "metadata": {},
     "output_type": "display_data"
    },
    {
     "data": {
      "text/markdown": [
       "<span style=\"color:#33cc33\">Correct</span>"
      ],
      "text/plain": [
       "Correct"
      ]
     },
     "metadata": {},
     "output_type": "display_data"
    }
   ],
   "source": [
    "reviews_per_region = reviews.region_1.fillna(\"Unknown\").value_counts().sort_values(ascending = False)\n",
    "# Check your answer\n",
    "q4.check()"
   ]
  },
  {
   "cell_type": "code",
   "execution_count": 9,
   "id": "88d721ff",
   "metadata": {
    "execution": {
     "iopub.execute_input": "2024-03-30T05:27:25.680543Z",
     "iopub.status.busy": "2024-03-30T05:27:25.680122Z",
     "iopub.status.idle": "2024-03-30T05:27:25.684730Z",
     "shell.execute_reply": "2024-03-30T05:27:25.683554Z"
    },
    "papermill": {
     "duration": 0.015791,
     "end_time": "2024-03-30T05:27:25.687178",
     "exception": false,
     "start_time": "2024-03-30T05:27:25.671387",
     "status": "completed"
    },
    "tags": []
   },
   "outputs": [],
   "source": [
    "#q4.hint()\n",
    "#q4.solution()"
   ]
  },
  {
   "cell_type": "markdown",
   "id": "92937c08",
   "metadata": {
    "papermill": {
     "duration": 0.007487,
     "end_time": "2024-03-30T05:27:25.703211",
     "exception": false,
     "start_time": "2024-03-30T05:27:25.695724",
     "status": "completed"
    },
    "tags": []
   },
   "source": [
    "# Keep going\n",
    "\n",
    "Move on to **[renaming and combining](https://www.kaggle.com/residentmario/renaming-and-combining)**."
   ]
  },
  {
   "cell_type": "markdown",
   "id": "2337bf48",
   "metadata": {
    "papermill": {
     "duration": 0.007096,
     "end_time": "2024-03-30T05:27:25.717711",
     "exception": false,
     "start_time": "2024-03-30T05:27:25.710615",
     "status": "completed"
    },
    "tags": []
   },
   "source": [
    "---\n",
    "\n",
    "\n",
    "\n",
    "\n",
    "*Have questions or comments? Visit the [course discussion forum](https://www.kaggle.com/learn/pandas/discussion) to chat with other learners.*"
   ]
  }
 ],
 "metadata": {
  "kaggle": {
   "accelerator": "none",
   "dataSources": [
    {
     "datasetId": 655,
     "sourceId": 1252,
     "sourceType": "datasetVersion"
    },
    {
     "datasetId": 2321,
     "sourceId": 3919,
     "sourceType": "datasetVersion"
    },
    {
     "datasetId": 2894,
     "sourceId": 4877,
     "sourceType": "datasetVersion"
    },
    {
     "datasetId": 3491,
     "sourceId": 5624,
     "sourceType": "datasetVersion"
    },
    {
     "datasetId": 1442,
     "sourceId": 8172,
     "sourceType": "datasetVersion"
    },
    {
     "datasetId": 9366,
     "sourceId": 13206,
     "sourceType": "datasetVersion"
    },
    {
     "datasetId": 179555,
     "sourceId": 403916,
     "sourceType": "datasetVersion"
    },
    {
     "datasetId": 4549,
     "sourceId": 466349,
     "sourceType": "datasetVersion"
    },
    {
     "datasetId": 2478,
     "sourceId": 1151655,
     "sourceType": "datasetVersion"
    },
    {
     "datasetId": 10128,
     "sourceId": 5438389,
     "sourceType": "datasetVersion"
    }
   ],
   "isGpuEnabled": false,
   "isInternetEnabled": false,
   "language": "python",
   "sourceType": "notebook"
  },
  "kernelspec": {
   "display_name": "Python 3",
   "language": "python",
   "name": "python3"
  },
  "language_info": {
   "codemirror_mode": {
    "name": "ipython",
    "version": 3
   },
   "file_extension": ".py",
   "mimetype": "text/x-python",
   "name": "python",
   "nbconvert_exporter": "python",
   "pygments_lexer": "ipython3",
   "version": "3.10.13"
  },
  "papermill": {
   "default_parameters": {},
   "duration": 10.045003,
   "end_time": "2024-03-30T05:27:28.448853",
   "environment_variables": {},
   "exception": null,
   "input_path": "__notebook__.ipynb",
   "output_path": "__notebook__.ipynb",
   "parameters": {},
   "start_time": "2024-03-30T05:27:18.403850",
   "version": "2.5.0"
  }
 },
 "nbformat": 4,
 "nbformat_minor": 5
}
