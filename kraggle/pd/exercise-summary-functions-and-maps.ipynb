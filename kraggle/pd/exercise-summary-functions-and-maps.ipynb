{
 "cells": [
  {
   "cell_type": "markdown",
   "id": "01bd55d7",
   "metadata": {
    "papermill": {
     "duration": 0.010338,
     "end_time": "2024-03-30T05:25:05.198457",
     "exception": false,
     "start_time": "2024-03-30T05:25:05.188119",
     "status": "completed"
    },
    "tags": []
   },
   "source": [
    "**This notebook is an exercise in the [Pandas](https://www.kaggle.com/learn/pandas) course.  You can reference the tutorial at [this link](https://www.kaggle.com/residentmario/summary-functions-and-maps).**\n",
    "\n",
    "---\n"
   ]
  },
  {
   "cell_type": "markdown",
   "id": "1775b045",
   "metadata": {
    "papermill": {
     "duration": 0.008256,
     "end_time": "2024-03-30T05:25:05.216005",
     "exception": false,
     "start_time": "2024-03-30T05:25:05.207749",
     "status": "completed"
    },
    "tags": []
   },
   "source": [
    "# Introduction\n",
    "\n",
    "Now you are ready to get a deeper understanding of your data.\n",
    "\n",
    "Run the following cell to load your data and some utility functions (including code to check your answers)."
   ]
  },
  {
   "cell_type": "code",
   "execution_count": 1,
   "id": "1a97a0d3",
   "metadata": {
    "execution": {
     "iopub.execute_input": "2024-03-30T05:25:05.236000Z",
     "iopub.status.busy": "2024-03-30T05:25:05.235190Z",
     "iopub.status.idle": "2024-03-30T05:25:15.047396Z",
     "shell.execute_reply": "2024-03-30T05:25:15.046376Z"
    },
    "papermill": {
     "duration": 9.826058,
     "end_time": "2024-03-30T05:25:15.050403",
     "exception": false,
     "start_time": "2024-03-30T05:25:05.224345",
     "status": "completed"
    },
    "tags": []
   },
   "outputs": [
    {
     "name": "stdout",
     "output_type": "stream",
     "text": [
      "Setup complete.\n"
     ]
    },
    {
     "data": {
      "text/html": [
       "<div>\n",
       "<style scoped>\n",
       "    .dataframe tbody tr th:only-of-type {\n",
       "        vertical-align: middle;\n",
       "    }\n",
       "\n",
       "    .dataframe tbody tr th {\n",
       "        vertical-align: top;\n",
       "    }\n",
       "\n",
       "    .dataframe thead th {\n",
       "        text-align: right;\n",
       "    }\n",
       "</style>\n",
       "<table border=\"1\" class=\"dataframe\">\n",
       "  <thead>\n",
       "    <tr style=\"text-align: right;\">\n",
       "      <th></th>\n",
       "      <th>country</th>\n",
       "      <th>description</th>\n",
       "      <th>designation</th>\n",
       "      <th>points</th>\n",
       "      <th>price</th>\n",
       "      <th>province</th>\n",
       "      <th>region_1</th>\n",
       "      <th>region_2</th>\n",
       "      <th>taster_name</th>\n",
       "      <th>taster_twitter_handle</th>\n",
       "      <th>title</th>\n",
       "      <th>variety</th>\n",
       "      <th>winery</th>\n",
       "    </tr>\n",
       "  </thead>\n",
       "  <tbody>\n",
       "    <tr>\n",
       "      <th>0</th>\n",
       "      <td>Italy</td>\n",
       "      <td>Aromas include tropical fruit, broom, brimston...</td>\n",
       "      <td>Vulkà Bianco</td>\n",
       "      <td>87</td>\n",
       "      <td>NaN</td>\n",
       "      <td>Sicily &amp; Sardinia</td>\n",
       "      <td>Etna</td>\n",
       "      <td>NaN</td>\n",
       "      <td>Kerin O’Keefe</td>\n",
       "      <td>@kerinokeefe</td>\n",
       "      <td>Nicosia 2013 Vulkà Bianco  (Etna)</td>\n",
       "      <td>White Blend</td>\n",
       "      <td>Nicosia</td>\n",
       "    </tr>\n",
       "    <tr>\n",
       "      <th>1</th>\n",
       "      <td>Portugal</td>\n",
       "      <td>This is ripe and fruity, a wine that is smooth...</td>\n",
       "      <td>Avidagos</td>\n",
       "      <td>87</td>\n",
       "      <td>15.0</td>\n",
       "      <td>Douro</td>\n",
       "      <td>NaN</td>\n",
       "      <td>NaN</td>\n",
       "      <td>Roger Voss</td>\n",
       "      <td>@vossroger</td>\n",
       "      <td>Quinta dos Avidagos 2011 Avidagos Red (Douro)</td>\n",
       "      <td>Portuguese Red</td>\n",
       "      <td>Quinta dos Avidagos</td>\n",
       "    </tr>\n",
       "    <tr>\n",
       "      <th>2</th>\n",
       "      <td>US</td>\n",
       "      <td>Tart and snappy, the flavors of lime flesh and...</td>\n",
       "      <td>NaN</td>\n",
       "      <td>87</td>\n",
       "      <td>14.0</td>\n",
       "      <td>Oregon</td>\n",
       "      <td>Willamette Valley</td>\n",
       "      <td>Willamette Valley</td>\n",
       "      <td>Paul Gregutt</td>\n",
       "      <td>@paulgwine</td>\n",
       "      <td>Rainstorm 2013 Pinot Gris (Willamette Valley)</td>\n",
       "      <td>Pinot Gris</td>\n",
       "      <td>Rainstorm</td>\n",
       "    </tr>\n",
       "    <tr>\n",
       "      <th>3</th>\n",
       "      <td>US</td>\n",
       "      <td>Pineapple rind, lemon pith and orange blossom ...</td>\n",
       "      <td>Reserve Late Harvest</td>\n",
       "      <td>87</td>\n",
       "      <td>13.0</td>\n",
       "      <td>Michigan</td>\n",
       "      <td>Lake Michigan Shore</td>\n",
       "      <td>NaN</td>\n",
       "      <td>Alexander Peartree</td>\n",
       "      <td>NaN</td>\n",
       "      <td>St. Julian 2013 Reserve Late Harvest Riesling ...</td>\n",
       "      <td>Riesling</td>\n",
       "      <td>St. Julian</td>\n",
       "    </tr>\n",
       "    <tr>\n",
       "      <th>4</th>\n",
       "      <td>US</td>\n",
       "      <td>Much like the regular bottling from 2012, this...</td>\n",
       "      <td>Vintner's Reserve Wild Child Block</td>\n",
       "      <td>87</td>\n",
       "      <td>65.0</td>\n",
       "      <td>Oregon</td>\n",
       "      <td>Willamette Valley</td>\n",
       "      <td>Willamette Valley</td>\n",
       "      <td>Paul Gregutt</td>\n",
       "      <td>@paulgwine</td>\n",
       "      <td>Sweet Cheeks 2012 Vintner's Reserve Wild Child...</td>\n",
       "      <td>Pinot Noir</td>\n",
       "      <td>Sweet Cheeks</td>\n",
       "    </tr>\n",
       "  </tbody>\n",
       "</table>\n",
       "</div>"
      ],
      "text/plain": [
       "    country                                        description  \\\n",
       "0     Italy  Aromas include tropical fruit, broom, brimston...   \n",
       "1  Portugal  This is ripe and fruity, a wine that is smooth...   \n",
       "2        US  Tart and snappy, the flavors of lime flesh and...   \n",
       "3        US  Pineapple rind, lemon pith and orange blossom ...   \n",
       "4        US  Much like the regular bottling from 2012, this...   \n",
       "\n",
       "                          designation  points  price           province  \\\n",
       "0                        Vulkà Bianco      87    NaN  Sicily & Sardinia   \n",
       "1                            Avidagos      87   15.0              Douro   \n",
       "2                                 NaN      87   14.0             Oregon   \n",
       "3                Reserve Late Harvest      87   13.0           Michigan   \n",
       "4  Vintner's Reserve Wild Child Block      87   65.0             Oregon   \n",
       "\n",
       "              region_1           region_2         taster_name  \\\n",
       "0                 Etna                NaN       Kerin O’Keefe   \n",
       "1                  NaN                NaN          Roger Voss   \n",
       "2    Willamette Valley  Willamette Valley        Paul Gregutt   \n",
       "3  Lake Michigan Shore                NaN  Alexander Peartree   \n",
       "4    Willamette Valley  Willamette Valley        Paul Gregutt   \n",
       "\n",
       "  taster_twitter_handle                                              title  \\\n",
       "0          @kerinokeefe                  Nicosia 2013 Vulkà Bianco  (Etna)   \n",
       "1            @vossroger      Quinta dos Avidagos 2011 Avidagos Red (Douro)   \n",
       "2           @paulgwine       Rainstorm 2013 Pinot Gris (Willamette Valley)   \n",
       "3                   NaN  St. Julian 2013 Reserve Late Harvest Riesling ...   \n",
       "4           @paulgwine   Sweet Cheeks 2012 Vintner's Reserve Wild Child...   \n",
       "\n",
       "          variety               winery  \n",
       "0     White Blend              Nicosia  \n",
       "1  Portuguese Red  Quinta dos Avidagos  \n",
       "2      Pinot Gris            Rainstorm  \n",
       "3        Riesling           St. Julian  \n",
       "4      Pinot Noir         Sweet Cheeks  "
      ]
     },
     "execution_count": 1,
     "metadata": {},
     "output_type": "execute_result"
    }
   ],
   "source": [
    "import pandas as pd\n",
    "pd.set_option(\"display.max_rows\", 5)\n",
    "reviews = pd.read_csv(\"../input/wine-reviews/winemag-data-130k-v2.csv\", index_col=0)\n",
    "\n",
    "from learntools.core import binder; binder.bind(globals())\n",
    "from learntools.pandas.summary_functions_and_maps import *\n",
    "print(\"Setup complete.\")\n",
    "\n",
    "reviews.head()"
   ]
  },
  {
   "cell_type": "markdown",
   "id": "74d838f4",
   "metadata": {
    "papermill": {
     "duration": 0.008696,
     "end_time": "2024-03-30T05:25:15.068877",
     "exception": false,
     "start_time": "2024-03-30T05:25:15.060181",
     "status": "completed"
    },
    "tags": []
   },
   "source": [
    "# Exercises"
   ]
  },
  {
   "cell_type": "markdown",
   "id": "39b1f40a",
   "metadata": {
    "papermill": {
     "duration": 0.008576,
     "end_time": "2024-03-30T05:25:15.086438",
     "exception": false,
     "start_time": "2024-03-30T05:25:15.077862",
     "status": "completed"
    },
    "tags": []
   },
   "source": [
    "## 1.\n",
    "\n",
    "What is the median of the `points` column in the `reviews` DataFrame?"
   ]
  },
  {
   "cell_type": "code",
   "execution_count": 2,
   "id": "7583b8a4",
   "metadata": {
    "execution": {
     "iopub.execute_input": "2024-03-30T05:25:15.106454Z",
     "iopub.status.busy": "2024-03-30T05:25:15.106072Z",
     "iopub.status.idle": "2024-03-30T05:25:15.115524Z",
     "shell.execute_reply": "2024-03-30T05:25:15.114759Z"
    },
    "papermill": {
     "duration": 0.022549,
     "end_time": "2024-03-30T05:25:15.117988",
     "exception": false,
     "start_time": "2024-03-30T05:25:15.095439",
     "status": "completed"
    },
    "tags": []
   },
   "outputs": [
    {
     "data": {
      "application/javascript": [
       "parent.postMessage({\"jupyterEvent\": \"custom.exercise_interaction\", \"data\": {\"outcomeType\": 1, \"valueTowardsCompletion\": 0.14285714285714285, \"interactionType\": 1, \"questionType\": 1, \"questionId\": \"1_MedianPoints\", \"learnToolsVersion\": \"0.3.4\", \"failureMessage\": \"\", \"exceptionClass\": \"\", \"trace\": \"\"}}, \"*\")"
      ],
      "text/plain": [
       "<IPython.core.display.Javascript object>"
      ]
     },
     "metadata": {},
     "output_type": "display_data"
    },
    {
     "data": {
      "text/markdown": [
       "<span style=\"color:#33cc33\">Correct</span>"
      ],
      "text/plain": [
       "Correct"
      ]
     },
     "metadata": {},
     "output_type": "display_data"
    }
   ],
   "source": [
    "median_points = reviews.points.median()\n",
    "\n",
    "# Check your answer\n",
    "q1.check()"
   ]
  },
  {
   "cell_type": "code",
   "execution_count": 3,
   "id": "3abe9e3d",
   "metadata": {
    "execution": {
     "iopub.execute_input": "2024-03-30T05:25:15.138758Z",
     "iopub.status.busy": "2024-03-30T05:25:15.138163Z",
     "iopub.status.idle": "2024-03-30T05:25:15.142032Z",
     "shell.execute_reply": "2024-03-30T05:25:15.141090Z"
    },
    "papermill": {
     "duration": 0.016969,
     "end_time": "2024-03-30T05:25:15.144290",
     "exception": false,
     "start_time": "2024-03-30T05:25:15.127321",
     "status": "completed"
    },
    "tags": []
   },
   "outputs": [],
   "source": [
    "#q1.hint()\n",
    "#q1.solution()"
   ]
  },
  {
   "cell_type": "markdown",
   "id": "4545ad51",
   "metadata": {
    "papermill": {
     "duration": 0.009087,
     "end_time": "2024-03-30T05:25:15.162729",
     "exception": false,
     "start_time": "2024-03-30T05:25:15.153642",
     "status": "completed"
    },
    "tags": []
   },
   "source": [
    "## 2. \n",
    "What countries are represented in the dataset? (Your answer should not include any duplicates.)"
   ]
  },
  {
   "cell_type": "code",
   "execution_count": 4,
   "id": "50249552",
   "metadata": {
    "execution": {
     "iopub.execute_input": "2024-03-30T05:25:15.184214Z",
     "iopub.status.busy": "2024-03-30T05:25:15.183817Z",
     "iopub.status.idle": "2024-03-30T05:25:15.202031Z",
     "shell.execute_reply": "2024-03-30T05:25:15.201207Z"
    },
    "papermill": {
     "duration": 0.032154,
     "end_time": "2024-03-30T05:25:15.204102",
     "exception": false,
     "start_time": "2024-03-30T05:25:15.171948",
     "status": "completed"
    },
    "tags": []
   },
   "outputs": [
    {
     "data": {
      "application/javascript": [
       "parent.postMessage({\"jupyterEvent\": \"custom.exercise_interaction\", \"data\": {\"outcomeType\": 1, \"valueTowardsCompletion\": 0.14285714285714285, \"interactionType\": 1, \"questionType\": 2, \"questionId\": \"2_UniqueCountries\", \"learnToolsVersion\": \"0.3.4\", \"failureMessage\": \"\", \"exceptionClass\": \"\", \"trace\": \"\"}}, \"*\")"
      ],
      "text/plain": [
       "<IPython.core.display.Javascript object>"
      ]
     },
     "metadata": {},
     "output_type": "display_data"
    },
    {
     "data": {
      "text/markdown": [
       "<span style=\"color:#33cc33\">Correct</span>"
      ],
      "text/plain": [
       "Correct"
      ]
     },
     "metadata": {},
     "output_type": "display_data"
    }
   ],
   "source": [
    "countries = reviews['country'].unique()\n",
    "\n",
    "# Check your answer\n",
    "q2.check()"
   ]
  },
  {
   "cell_type": "code",
   "execution_count": 5,
   "id": "c453f25e",
   "metadata": {
    "execution": {
     "iopub.execute_input": "2024-03-30T05:25:15.225595Z",
     "iopub.status.busy": "2024-03-30T05:25:15.224892Z",
     "iopub.status.idle": "2024-03-30T05:25:15.228671Z",
     "shell.execute_reply": "2024-03-30T05:25:15.227895Z"
    },
    "papermill": {
     "duration": 0.017062,
     "end_time": "2024-03-30T05:25:15.230849",
     "exception": false,
     "start_time": "2024-03-30T05:25:15.213787",
     "status": "completed"
    },
    "tags": []
   },
   "outputs": [],
   "source": [
    "#q2.hint()\n",
    "#q2.solution()"
   ]
  },
  {
   "cell_type": "markdown",
   "id": "88d40303",
   "metadata": {
    "papermill": {
     "duration": 0.009462,
     "end_time": "2024-03-30T05:25:15.250279",
     "exception": false,
     "start_time": "2024-03-30T05:25:15.240817",
     "status": "completed"
    },
    "tags": []
   },
   "source": [
    "## 3.\n",
    "How often does each country appear in the dataset? Create a Series `reviews_per_country` mapping countries to the count of reviews of wines from that country."
   ]
  },
  {
   "cell_type": "code",
   "execution_count": 6,
   "id": "11673d36",
   "metadata": {
    "execution": {
     "iopub.execute_input": "2024-03-30T05:25:15.271515Z",
     "iopub.status.busy": "2024-03-30T05:25:15.270855Z",
     "iopub.status.idle": "2024-03-30T05:25:15.302794Z",
     "shell.execute_reply": "2024-03-30T05:25:15.301737Z"
    },
    "papermill": {
     "duration": 0.045547,
     "end_time": "2024-03-30T05:25:15.305400",
     "exception": false,
     "start_time": "2024-03-30T05:25:15.259853",
     "status": "completed"
    },
    "tags": []
   },
   "outputs": [
    {
     "data": {
      "application/javascript": [
       "parent.postMessage({\"jupyterEvent\": \"custom.exercise_interaction\", \"data\": {\"outcomeType\": 1, \"valueTowardsCompletion\": 0.14285714285714285, \"interactionType\": 1, \"questionType\": 1, \"questionId\": \"3_ReviewsPerCountry\", \"learnToolsVersion\": \"0.3.4\", \"failureMessage\": \"\", \"exceptionClass\": \"\", \"trace\": \"\"}}, \"*\")"
      ],
      "text/plain": [
       "<IPython.core.display.Javascript object>"
      ]
     },
     "metadata": {},
     "output_type": "display_data"
    },
    {
     "data": {
      "text/markdown": [
       "<span style=\"color:#33cc33\">Correct</span>"
      ],
      "text/plain": [
       "Correct"
      ]
     },
     "metadata": {},
     "output_type": "display_data"
    }
   ],
   "source": [
    "reviews_per_country = reviews.country.value_counts()\n",
    "\n",
    "# Check your answer\n",
    "q3.check()"
   ]
  },
  {
   "cell_type": "code",
   "execution_count": 7,
   "id": "970f2c7b",
   "metadata": {
    "execution": {
     "iopub.execute_input": "2024-03-30T05:25:15.327860Z",
     "iopub.status.busy": "2024-03-30T05:25:15.327131Z",
     "iopub.status.idle": "2024-03-30T05:25:15.331440Z",
     "shell.execute_reply": "2024-03-30T05:25:15.330641Z"
    },
    "papermill": {
     "duration": 0.018113,
     "end_time": "2024-03-30T05:25:15.333619",
     "exception": false,
     "start_time": "2024-03-30T05:25:15.315506",
     "status": "completed"
    },
    "tags": []
   },
   "outputs": [],
   "source": [
    "#q3.hint()\n",
    "#q3.solution()"
   ]
  },
  {
   "cell_type": "markdown",
   "id": "780b08d1",
   "metadata": {
    "papermill": {
     "duration": 0.009656,
     "end_time": "2024-03-30T05:25:15.353252",
     "exception": false,
     "start_time": "2024-03-30T05:25:15.343596",
     "status": "completed"
    },
    "tags": []
   },
   "source": [
    "## 4.\n",
    "Create variable `centered_price` containing a version of the `price` column with the mean price subtracted.\n",
    "\n",
    "(Note: this 'centering' transformation is a common preprocessing step before applying various machine learning algorithms.) "
   ]
  },
  {
   "cell_type": "code",
   "execution_count": 8,
   "id": "22d028c2",
   "metadata": {
    "execution": {
     "iopub.execute_input": "2024-03-30T05:25:15.375679Z",
     "iopub.status.busy": "2024-03-30T05:25:15.375093Z",
     "iopub.status.idle": "2024-03-30T05:25:15.386286Z",
     "shell.execute_reply": "2024-03-30T05:25:15.385192Z"
    },
    "papermill": {
     "duration": 0.024914,
     "end_time": "2024-03-30T05:25:15.388427",
     "exception": false,
     "start_time": "2024-03-30T05:25:15.363513",
     "status": "completed"
    },
    "tags": []
   },
   "outputs": [
    {
     "data": {
      "application/javascript": [
       "parent.postMessage({\"jupyterEvent\": \"custom.exercise_interaction\", \"data\": {\"outcomeType\": 1, \"valueTowardsCompletion\": 0.14285714285714285, \"interactionType\": 1, \"questionType\": 1, \"questionId\": \"4_CenteredPrice\", \"learnToolsVersion\": \"0.3.4\", \"failureMessage\": \"\", \"exceptionClass\": \"\", \"trace\": \"\"}}, \"*\")"
      ],
      "text/plain": [
       "<IPython.core.display.Javascript object>"
      ]
     },
     "metadata": {},
     "output_type": "display_data"
    },
    {
     "data": {
      "text/markdown": [
       "<span style=\"color:#33cc33\">Correct</span>"
      ],
      "text/plain": [
       "Correct"
      ]
     },
     "metadata": {},
     "output_type": "display_data"
    }
   ],
   "source": [
    "centered_price = reviews.price - reviews.price.mean()\n",
    "\n",
    "# Check your answer\n",
    "q4.check()"
   ]
  },
  {
   "cell_type": "code",
   "execution_count": 9,
   "id": "b3dc92cc",
   "metadata": {
    "execution": {
     "iopub.execute_input": "2024-03-30T05:25:15.411241Z",
     "iopub.status.busy": "2024-03-30T05:25:15.410628Z",
     "iopub.status.idle": "2024-03-30T05:25:15.415202Z",
     "shell.execute_reply": "2024-03-30T05:25:15.414200Z"
    },
    "papermill": {
     "duration": 0.018896,
     "end_time": "2024-03-30T05:25:15.417640",
     "exception": false,
     "start_time": "2024-03-30T05:25:15.398744",
     "status": "completed"
    },
    "tags": []
   },
   "outputs": [],
   "source": [
    "#q4.hint()\n",
    "#q4.solution()"
   ]
  },
  {
   "cell_type": "markdown",
   "id": "9946b532",
   "metadata": {
    "papermill": {
     "duration": 0.010341,
     "end_time": "2024-03-30T05:25:15.438732",
     "exception": false,
     "start_time": "2024-03-30T05:25:15.428391",
     "status": "completed"
    },
    "tags": []
   },
   "source": [
    "## 5.\n",
    "I'm an economical wine buyer. Which wine is the \"best bargain\"? Create a variable `bargain_wine` with the title of the wine with the highest points-to-price ratio in the dataset."
   ]
  },
  {
   "cell_type": "code",
   "execution_count": 10,
   "id": "fe10f76e",
   "metadata": {
    "execution": {
     "iopub.execute_input": "2024-03-30T05:25:15.461289Z",
     "iopub.status.busy": "2024-03-30T05:25:15.460669Z",
     "iopub.status.idle": "2024-03-30T05:25:15.473643Z",
     "shell.execute_reply": "2024-03-30T05:25:15.472561Z"
    },
    "papermill": {
     "duration": 0.026872,
     "end_time": "2024-03-30T05:25:15.475879",
     "exception": false,
     "start_time": "2024-03-30T05:25:15.449007",
     "status": "completed"
    },
    "tags": []
   },
   "outputs": [
    {
     "data": {
      "application/javascript": [
       "parent.postMessage({\"jupyterEvent\": \"custom.exercise_interaction\", \"data\": {\"outcomeType\": 1, \"valueTowardsCompletion\": 0.14285714285714285, \"interactionType\": 1, \"questionType\": 2, \"questionId\": \"5_BargainWine\", \"learnToolsVersion\": \"0.3.4\", \"failureMessage\": \"\", \"exceptionClass\": \"\", \"trace\": \"\"}}, \"*\")"
      ],
      "text/plain": [
       "<IPython.core.display.Javascript object>"
      ]
     },
     "metadata": {},
     "output_type": "display_data"
    },
    {
     "data": {
      "text/markdown": [
       "<span style=\"color:#33cc33\">Correct</span>"
      ],
      "text/plain": [
       "Correct"
      ]
     },
     "metadata": {},
     "output_type": "display_data"
    }
   ],
   "source": [
    "bargain_wine = reviews.loc[(reviews.points / reviews.price).idxmax(), 'title']\n",
    "\n",
    "# Check your answer\n",
    "q5.check()"
   ]
  },
  {
   "cell_type": "code",
   "execution_count": 11,
   "id": "058777ee",
   "metadata": {
    "execution": {
     "iopub.execute_input": "2024-03-30T05:25:15.499180Z",
     "iopub.status.busy": "2024-03-30T05:25:15.498601Z",
     "iopub.status.idle": "2024-03-30T05:25:15.503447Z",
     "shell.execute_reply": "2024-03-30T05:25:15.502363Z"
    },
    "papermill": {
     "duration": 0.019155,
     "end_time": "2024-03-30T05:25:15.505767",
     "exception": false,
     "start_time": "2024-03-30T05:25:15.486612",
     "status": "completed"
    },
    "tags": []
   },
   "outputs": [],
   "source": [
    "#q5.hint()\n",
    "#q5.solution()"
   ]
  },
  {
   "cell_type": "markdown",
   "id": "f8627fa8",
   "metadata": {
    "papermill": {
     "duration": 0.010468,
     "end_time": "2024-03-30T05:25:15.526868",
     "exception": false,
     "start_time": "2024-03-30T05:25:15.516400",
     "status": "completed"
    },
    "tags": []
   },
   "source": [
    "## 6.\n",
    "There are only so many words you can use when describing a bottle of wine. Is a wine more likely to be \"tropical\" or \"fruity\"? Create a Series `descriptor_counts` counting how many times each of these two words appears in the `description` column in the dataset. (For simplicity, let's ignore the capitalized versions of these words.)"
   ]
  },
  {
   "cell_type": "code",
   "execution_count": 12,
   "id": "ee741e18",
   "metadata": {
    "execution": {
     "iopub.execute_input": "2024-03-30T05:25:15.550171Z",
     "iopub.status.busy": "2024-03-30T05:25:15.549427Z",
     "iopub.status.idle": "2024-03-30T05:25:15.732602Z",
     "shell.execute_reply": "2024-03-30T05:25:15.731515Z"
    },
    "papermill": {
     "duration": 0.197582,
     "end_time": "2024-03-30T05:25:15.734883",
     "exception": false,
     "start_time": "2024-03-30T05:25:15.537301",
     "status": "completed"
    },
    "tags": []
   },
   "outputs": [
    {
     "data": {
      "application/javascript": [
       "parent.postMessage({\"jupyterEvent\": \"custom.exercise_interaction\", \"data\": {\"outcomeType\": 1, \"valueTowardsCompletion\": 0.14285714285714285, \"interactionType\": 1, \"questionType\": 1, \"questionId\": \"6_DescriptorCounts\", \"learnToolsVersion\": \"0.3.4\", \"failureMessage\": \"\", \"exceptionClass\": \"\", \"trace\": \"\"}}, \"*\")"
      ],
      "text/plain": [
       "<IPython.core.display.Javascript object>"
      ]
     },
     "metadata": {},
     "output_type": "display_data"
    },
    {
     "data": {
      "text/markdown": [
       "<span style=\"color:#33cc33\">Correct</span>"
      ],
      "text/plain": [
       "Correct"
      ]
     },
     "metadata": {},
     "output_type": "display_data"
    }
   ],
   "source": [
    "tropical = reviews.description.map(lambda x: \"tropical\" in x).sum()\n",
    "fruity = reviews.description.map(lambda x: \"fruity\" in x).sum()\n",
    "descriptor_counts = pd.Series([tropical, fruity], index=['tropical', 'fruity'])\n",
    "\n",
    "# Check your answer\n",
    "q6.check()"
   ]
  },
  {
   "cell_type": "code",
   "execution_count": 13,
   "id": "454926d0",
   "metadata": {
    "execution": {
     "iopub.execute_input": "2024-03-30T05:25:15.759517Z",
     "iopub.status.busy": "2024-03-30T05:25:15.759137Z",
     "iopub.status.idle": "2024-03-30T05:25:15.763535Z",
     "shell.execute_reply": "2024-03-30T05:25:15.762371Z"
    },
    "papermill": {
     "duration": 0.01981,
     "end_time": "2024-03-30T05:25:15.766091",
     "exception": false,
     "start_time": "2024-03-30T05:25:15.746281",
     "status": "completed"
    },
    "tags": []
   },
   "outputs": [],
   "source": [
    "#q6.hint()\n",
    "#q6.solution()"
   ]
  },
  {
   "cell_type": "markdown",
   "id": "fa3581e8",
   "metadata": {
    "papermill": {
     "duration": 0.010829,
     "end_time": "2024-03-30T05:25:15.788032",
     "exception": false,
     "start_time": "2024-03-30T05:25:15.777203",
     "status": "completed"
    },
    "tags": []
   },
   "source": [
    "## 7.\n",
    "We'd like to host these wine reviews on our website, but a rating system ranging from 80 to 100 points is too hard to understand - we'd like to translate them into simple star ratings. A score of 95 or higher counts as 3 stars, a score of at least 85 but less than 95 is 2 stars. Any other score is 1 star.\n",
    "\n",
    "Also, the Canadian Vintners Association bought a lot of ads on the site, so any wines from Canada should automatically get 3 stars, regardless of points.\n",
    "\n",
    "Create a series `star_ratings` with the number of stars corresponding to each review in the dataset."
   ]
  },
  {
   "cell_type": "code",
   "execution_count": 14,
   "id": "bd4c3659",
   "metadata": {
    "execution": {
     "iopub.execute_input": "2024-03-30T05:25:15.811920Z",
     "iopub.status.busy": "2024-03-30T05:25:15.811517Z",
     "iopub.status.idle": "2024-03-30T05:25:21.012679Z",
     "shell.execute_reply": "2024-03-30T05:25:21.011545Z"
    },
    "papermill": {
     "duration": 5.216256,
     "end_time": "2024-03-30T05:25:21.015276",
     "exception": false,
     "start_time": "2024-03-30T05:25:15.799020",
     "status": "completed"
    },
    "tags": []
   },
   "outputs": [
    {
     "data": {
      "application/javascript": [
       "parent.postMessage({\"jupyterEvent\": \"custom.exercise_interaction\", \"data\": {\"outcomeType\": 1, \"valueTowardsCompletion\": 0.14285714285714285, \"interactionType\": 1, \"questionType\": 1, \"questionId\": \"7_StarRatings\", \"learnToolsVersion\": \"0.3.4\", \"failureMessage\": \"\", \"exceptionClass\": \"\", \"trace\": \"\"}}, \"*\")"
      ],
      "text/plain": [
       "<IPython.core.display.Javascript object>"
      ]
     },
     "metadata": {},
     "output_type": "display_data"
    },
    {
     "data": {
      "text/markdown": [
       "<span style=\"color:#33cc33\">Correct</span>"
      ],
      "text/plain": [
       "Correct"
      ]
     },
     "metadata": {},
     "output_type": "display_data"
    }
   ],
   "source": [
    "def rating(row):\n",
    "    return 3 if row.points >= 95 or row.country == 'Canada' else (2 if row.points >= 85 else 1)\n",
    "\n",
    "star_ratings = reviews.apply(rating, axis='columns')\n",
    "\n",
    "# Check your answer\n",
    "q7.check()"
   ]
  },
  {
   "cell_type": "code",
   "execution_count": 15,
   "id": "d3fc0044",
   "metadata": {
    "execution": {
     "iopub.execute_input": "2024-03-30T05:25:21.040311Z",
     "iopub.status.busy": "2024-03-30T05:25:21.039950Z",
     "iopub.status.idle": "2024-03-30T05:25:21.045619Z",
     "shell.execute_reply": "2024-03-30T05:25:21.044678Z"
    },
    "papermill": {
     "duration": 0.02142,
     "end_time": "2024-03-30T05:25:21.048216",
     "exception": false,
     "start_time": "2024-03-30T05:25:21.026796",
     "status": "completed"
    },
    "tags": []
   },
   "outputs": [],
   "source": [
    "#q7.hint()\n",
    "#q7.solution()"
   ]
  },
  {
   "cell_type": "markdown",
   "id": "3c0b8c70",
   "metadata": {
    "papermill": {
     "duration": 0.011601,
     "end_time": "2024-03-30T05:25:21.071526",
     "exception": false,
     "start_time": "2024-03-30T05:25:21.059925",
     "status": "completed"
    },
    "tags": []
   },
   "source": [
    "# Keep going\n",
    "Continue to **[grouping and sorting](https://www.kaggle.com/residentmario/grouping-and-sorting)**."
   ]
  },
  {
   "cell_type": "markdown",
   "id": "f45b4ac1",
   "metadata": {
    "papermill": {
     "duration": 0.011092,
     "end_time": "2024-03-30T05:25:21.094145",
     "exception": false,
     "start_time": "2024-03-30T05:25:21.083053",
     "status": "completed"
    },
    "tags": []
   },
   "source": [
    "---\n",
    "\n",
    "\n",
    "\n",
    "\n",
    "*Have questions or comments? Visit the [course discussion forum](https://www.kaggle.com/learn/pandas/discussion) to chat with other learners.*"
   ]
  }
 ],
 "metadata": {
  "kaggle": {
   "accelerator": "none",
   "dataSources": [
    {
     "datasetId": 655,
     "sourceId": 1252,
     "sourceType": "datasetVersion"
    },
    {
     "datasetId": 2321,
     "sourceId": 3919,
     "sourceType": "datasetVersion"
    },
    {
     "datasetId": 2894,
     "sourceId": 4877,
     "sourceType": "datasetVersion"
    },
    {
     "datasetId": 3491,
     "sourceId": 5624,
     "sourceType": "datasetVersion"
    },
    {
     "datasetId": 1442,
     "sourceId": 8172,
     "sourceType": "datasetVersion"
    },
    {
     "datasetId": 9366,
     "sourceId": 13206,
     "sourceType": "datasetVersion"
    },
    {
     "datasetId": 179555,
     "sourceId": 403916,
     "sourceType": "datasetVersion"
    },
    {
     "datasetId": 4549,
     "sourceId": 466349,
     "sourceType": "datasetVersion"
    },
    {
     "datasetId": 2478,
     "sourceId": 1151655,
     "sourceType": "datasetVersion"
    },
    {
     "datasetId": 10128,
     "sourceId": 5438389,
     "sourceType": "datasetVersion"
    }
   ],
   "isGpuEnabled": false,
   "isInternetEnabled": false,
   "language": "python",
   "sourceType": "notebook"
  },
  "kernelspec": {
   "display_name": "Python 3",
   "language": "python",
   "name": "python3"
  },
  "language_info": {
   "codemirror_mode": {
    "name": "ipython",
    "version": 3
   },
   "file_extension": ".py",
   "mimetype": "text/x-python",
   "name": "python",
   "nbconvert_exporter": "python",
   "pygments_lexer": "ipython3",
   "version": "3.10.13"
  },
  "papermill": {
   "default_parameters": {},
   "duration": 19.524171,
   "end_time": "2024-03-30T05:25:21.626814",
   "environment_variables": {},
   "exception": null,
   "input_path": "__notebook__.ipynb",
   "output_path": "__notebook__.ipynb",
   "parameters": {},
   "start_time": "2024-03-30T05:25:02.102643",
   "version": "2.5.0"
  }
 },
 "nbformat": 4,
 "nbformat_minor": 5
}
