{
 "cells": [
  {
   "cell_type": "code",
   "execution_count": 1,
   "id": "525428c8",
   "metadata": {
    "_cell_guid": "b1076dfc-b9ad-4769-8c92-a6c4dae69d19",
    "_uuid": "8f2839f25d086af736a60e9eeb907d3b93b6e0e5",
    "execution": {
     "iopub.execute_input": "2025-02-01T06:47:32.800615Z",
     "iopub.status.busy": "2025-02-01T06:47:32.800181Z",
     "iopub.status.idle": "2025-02-01T06:47:33.739699Z",
     "shell.execute_reply": "2025-02-01T06:47:33.738305Z"
    },
    "papermill": {
     "duration": 0.950015,
     "end_time": "2025-02-01T06:47:33.741513",
     "exception": false,
     "start_time": "2025-02-01T06:47:32.791498",
     "status": "completed"
    },
    "tags": []
   },
   "outputs": [],
   "source": [
    "# This Python 3 environment comes with many helpful analytics libraries installed\n",
    "# It is defined by the kaggle/python Docker image: https://github.com/kaggle/docker-python\n",
    "# For example, here's several helpful packages to load\n",
    "\n",
    "import numpy as np # linear algebra\n",
    "import pandas as pd # data processing, CSV file I/O (e.g. pd.read_csv)\n",
    "\n",
    "# Input data files are available in the read-only \"../input/\" directory\n",
    "# For example, running this (by clicking run or pressing Shift+Enter) will list all files under the input directory\n",
    "\n",
    "import os\n",
    "for dirname, _, filenames in os.walk('/kaggle/input'):\n",
    "    for filename in filenames:\n",
    "        print(os.path.join(dirname, filename))\n",
    "\n",
    "# You can write up to 20GB to the current directory (/kaggle/working/) that gets preserved as output when you create a version using \"Save & Run All\" \n",
    "# You can also write temporary files to /kaggle/temp/, but they won't be saved outside of the current session"
   ]
  },
  {
   "cell_type": "code",
   "execution_count": 3,
   "id": "a49ecc83",
   "metadata": {
    "execution": {
     "iopub.execute_input": "2025-02-01T06:47:33.754091Z",
     "iopub.status.busy": "2025-02-01T06:47:33.753640Z",
     "iopub.status.idle": "2025-02-01T06:47:33.803795Z",
     "shell.execute_reply": "2025-02-01T06:47:33.802533Z"
    },
    "papermill": {
     "duration": 0.058347,
     "end_time": "2025-02-01T06:47:33.805562",
     "exception": false,
     "start_time": "2025-02-01T06:47:33.747215",
     "status": "completed"
    },
    "tags": []
   },
   "outputs": [],
   "source": [
    "data = pd.read_csv(\"/kaggle/input/road-accident-survival-dataset/accident.csv\")\n",
    "data"
   ]
  },
  {
   "cell_type": "code",
   "execution_count": 3,
   "id": "13494b51",
   "metadata": {
    "execution": {
     "iopub.execute_input": "2025-02-01T06:47:33.818033Z",
     "iopub.status.busy": "2025-02-01T06:47:33.817710Z",
     "iopub.status.idle": "2025-02-01T06:47:33.839535Z",
     "shell.execute_reply": "2025-02-01T06:47:33.838281Z"
    },
    "papermill": {
     "duration": 0.029922,
     "end_time": "2025-02-01T06:47:33.841279",
     "exception": false,
     "start_time": "2025-02-01T06:47:33.811357",
     "status": "completed"
    },
    "tags": []
   },
   "outputs": [
    {
     "name": "stdout",
     "output_type": "stream",
     "text": [
      "<class 'pandas.core.frame.DataFrame'>\n",
      "RangeIndex: 200 entries, 0 to 199\n",
      "Data columns (total 6 columns):\n",
      " #   Column           Non-Null Count  Dtype  \n",
      "---  ------           --------------  -----  \n",
      " 0   Age              200 non-null    int64  \n",
      " 1   Gender           199 non-null    object \n",
      " 2   Speed_of_Impact  197 non-null    float64\n",
      " 3   Helmet_Used      200 non-null    object \n",
      " 4   Seatbelt_Used    200 non-null    object \n",
      " 5   Survived         200 non-null    int64  \n",
      "dtypes: float64(1), int64(2), object(3)\n",
      "memory usage: 9.5+ KB\n"
     ]
    }
   ],
   "source": [
    "data.info()"
   ]
  },
  {
   "cell_type": "code",
   "execution_count": 4,
   "id": "df87268d",
   "metadata": {
    "execution": {
     "iopub.execute_input": "2025-02-01T06:47:33.854615Z",
     "iopub.status.busy": "2025-02-01T06:47:33.854119Z",
     "iopub.status.idle": "2025-02-01T06:47:33.863514Z",
     "shell.execute_reply": "2025-02-01T06:47:33.862470Z"
    },
    "papermill": {
     "duration": 0.018175,
     "end_time": "2025-02-01T06:47:33.865413",
     "exception": false,
     "start_time": "2025-02-01T06:47:33.847238",
     "status": "completed"
    },
    "tags": []
   },
   "outputs": [
    {
     "data": {
      "text/plain": [
       "Age                0\n",
       "Gender             1\n",
       "Speed_of_Impact    3\n",
       "Helmet_Used        0\n",
       "Seatbelt_Used      0\n",
       "Survived           0\n",
       "dtype: int64"
      ]
     },
     "execution_count": 4,
     "metadata": {},
     "output_type": "execute_result"
    }
   ],
   "source": [
    "data.isnull().sum()"
   ]
  },
  {
   "cell_type": "code",
   "execution_count": 5,
   "id": "5048143a",
   "metadata": {
    "execution": {
     "iopub.execute_input": "2025-02-01T06:47:33.888641Z",
     "iopub.status.busy": "2025-02-01T06:47:33.888129Z",
     "iopub.status.idle": "2025-02-01T06:47:33.894215Z",
     "shell.execute_reply": "2025-02-01T06:47:33.893173Z"
    },
    "papermill": {
     "duration": 0.019578,
     "end_time": "2025-02-01T06:47:33.895982",
     "exception": false,
     "start_time": "2025-02-01T06:47:33.876404",
     "status": "completed"
    },
    "tags": []
   },
   "outputs": [],
   "source": [
    "data['Gender'] = data['Gender'].fillna('Male')"
   ]
  },
  {
   "cell_type": "code",
   "execution_count": 6,
   "id": "9f54639b",
   "metadata": {
    "execution": {
     "iopub.execute_input": "2025-02-01T06:47:33.909231Z",
     "iopub.status.busy": "2025-02-01T06:47:33.908769Z",
     "iopub.status.idle": "2025-02-01T06:47:33.914531Z",
     "shell.execute_reply": "2025-02-01T06:47:33.913542Z"
    },
    "papermill": {
     "duration": 0.014156,
     "end_time": "2025-02-01T06:47:33.916102",
     "exception": false,
     "start_time": "2025-02-01T06:47:33.901946",
     "status": "completed"
    },
    "tags": []
   },
   "outputs": [],
   "source": [
    "data['Speed_of_Impact'] = data['Speed_of_Impact'].fillna(data['Speed_of_Impact'].mean())"
   ]
  },
  {
   "cell_type": "code",
   "execution_count": 7,
   "id": "e99f8771",
   "metadata": {
    "execution": {
     "iopub.execute_input": "2025-02-01T06:47:33.929051Z",
     "iopub.status.busy": "2025-02-01T06:47:33.928634Z",
     "iopub.status.idle": "2025-02-01T06:47:33.934950Z",
     "shell.execute_reply": "2025-02-01T06:47:33.933941Z"
    },
    "papermill": {
     "duration": 0.014592,
     "end_time": "2025-02-01T06:47:33.936559",
     "exception": false,
     "start_time": "2025-02-01T06:47:33.921967",
     "status": "completed"
    },
    "tags": []
   },
   "outputs": [],
   "source": [
    "data['Gender'] = data['Gender'].map({\"Female\":0,\"Male\":1})"
   ]
  },
  {
   "cell_type": "code",
   "execution_count": 8,
   "id": "aa9df154",
   "metadata": {
    "execution": {
     "iopub.execute_input": "2025-02-01T06:47:33.949677Z",
     "iopub.status.busy": "2025-02-01T06:47:33.949215Z",
     "iopub.status.idle": "2025-02-01T06:47:33.960062Z",
     "shell.execute_reply": "2025-02-01T06:47:33.958787Z"
    },
    "papermill": {
     "duration": 0.01934,
     "end_time": "2025-02-01T06:47:33.961814",
     "exception": false,
     "start_time": "2025-02-01T06:47:33.942474",
     "status": "completed"
    },
    "tags": []
   },
   "outputs": [
    {
     "name": "stderr",
     "output_type": "stream",
     "text": [
      "<ipython-input-8-55d3ec81a5db>:1: FutureWarning: Downcasting behavior in `replace` is deprecated and will be removed in a future version. To retain the old behavior, explicitly call `result.infer_objects(copy=False)`. To opt-in to the future behavior, set `pd.set_option('future.no_silent_downcasting', True)`\n",
      "  data[['Helmet_Used','Seatbelt_Used']] = data[['Helmet_Used','Seatbelt_Used']].replace({\"Yes\":1,\"No\":0})\n"
     ]
    }
   ],
   "source": [
    "data[['Helmet_Used','Seatbelt_Used']] = data[['Helmet_Used','Seatbelt_Used']].replace({\"Yes\":1,\"No\":0})"
   ]
  },
  {
   "cell_type": "code",
   "execution_count": 9,
   "id": "3204f81d",
   "metadata": {
    "execution": {
     "iopub.execute_input": "2025-02-01T06:47:33.974685Z",
     "iopub.status.busy": "2025-02-01T06:47:33.974337Z",
     "iopub.status.idle": "2025-02-01T06:47:33.979628Z",
     "shell.execute_reply": "2025-02-01T06:47:33.978692Z"
    },
    "papermill": {
     "duration": 0.013406,
     "end_time": "2025-02-01T06:47:33.981243",
     "exception": false,
     "start_time": "2025-02-01T06:47:33.967837",
     "status": "completed"
    },
    "tags": []
   },
   "outputs": [],
   "source": [
    "data['Age'] = data['Age'].apply(lambda x: 0 if x>50 else 1)"
   ]
  },
  {
   "cell_type": "code",
   "execution_count": 10,
   "id": "b5eda51f",
   "metadata": {
    "execution": {
     "iopub.execute_input": "2025-02-01T06:47:33.994686Z",
     "iopub.status.busy": "2025-02-01T06:47:33.994233Z",
     "iopub.status.idle": "2025-02-01T06:47:34.000037Z",
     "shell.execute_reply": "2025-02-01T06:47:33.998969Z"
    },
    "papermill": {
     "duration": 0.01459,
     "end_time": "2025-02-01T06:47:34.001909",
     "exception": false,
     "start_time": "2025-02-01T06:47:33.987319",
     "status": "completed"
    },
    "tags": []
   },
   "outputs": [],
   "source": [
    "data['Speed_of_Impact'] = data['Speed_of_Impact'].astype('int64')"
   ]
  },
  {
   "cell_type": "code",
   "execution_count": 11,
   "id": "b7d498a7",
   "metadata": {
    "execution": {
     "iopub.execute_input": "2025-02-01T06:47:34.015061Z",
     "iopub.status.busy": "2025-02-01T06:47:34.014728Z",
     "iopub.status.idle": "2025-02-01T06:47:34.026807Z",
     "shell.execute_reply": "2025-02-01T06:47:34.025734Z"
    },
    "papermill": {
     "duration": 0.020702,
     "end_time": "2025-02-01T06:47:34.028528",
     "exception": false,
     "start_time": "2025-02-01T06:47:34.007826",
     "status": "completed"
    },
    "tags": []
   },
   "outputs": [
    {
     "data": {
      "text/html": [
       "<div>\n",
       "<style scoped>\n",
       "    .dataframe tbody tr th:only-of-type {\n",
       "        vertical-align: middle;\n",
       "    }\n",
       "\n",
       "    .dataframe tbody tr th {\n",
       "        vertical-align: top;\n",
       "    }\n",
       "\n",
       "    .dataframe thead th {\n",
       "        text-align: right;\n",
       "    }\n",
       "</style>\n",
       "<table border=\"1\" class=\"dataframe\">\n",
       "  <thead>\n",
       "    <tr style=\"text-align: right;\">\n",
       "      <th></th>\n",
       "      <th>Age</th>\n",
       "      <th>Gender</th>\n",
       "      <th>Speed_of_Impact</th>\n",
       "      <th>Helmet_Used</th>\n",
       "      <th>Seatbelt_Used</th>\n",
       "      <th>Survived</th>\n",
       "    </tr>\n",
       "  </thead>\n",
       "  <tbody>\n",
       "    <tr>\n",
       "      <th>0</th>\n",
       "      <td>0</td>\n",
       "      <td>0</td>\n",
       "      <td>27</td>\n",
       "      <td>0</td>\n",
       "      <td>0</td>\n",
       "      <td>1</td>\n",
       "    </tr>\n",
       "    <tr>\n",
       "      <th>1</th>\n",
       "      <td>0</td>\n",
       "      <td>0</td>\n",
       "      <td>46</td>\n",
       "      <td>0</td>\n",
       "      <td>1</td>\n",
       "      <td>1</td>\n",
       "    </tr>\n",
       "    <tr>\n",
       "      <th>2</th>\n",
       "      <td>1</td>\n",
       "      <td>1</td>\n",
       "      <td>46</td>\n",
       "      <td>1</td>\n",
       "      <td>1</td>\n",
       "      <td>0</td>\n",
       "    </tr>\n",
       "    <tr>\n",
       "      <th>3</th>\n",
       "      <td>1</td>\n",
       "      <td>1</td>\n",
       "      <td>117</td>\n",
       "      <td>0</td>\n",
       "      <td>1</td>\n",
       "      <td>0</td>\n",
       "    </tr>\n",
       "    <tr>\n",
       "      <th>4</th>\n",
       "      <td>0</td>\n",
       "      <td>0</td>\n",
       "      <td>40</td>\n",
       "      <td>1</td>\n",
       "      <td>1</td>\n",
       "      <td>0</td>\n",
       "    </tr>\n",
       "    <tr>\n",
       "      <th>...</th>\n",
       "      <td>...</td>\n",
       "      <td>...</td>\n",
       "      <td>...</td>\n",
       "      <td>...</td>\n",
       "      <td>...</td>\n",
       "      <td>...</td>\n",
       "    </tr>\n",
       "    <tr>\n",
       "      <th>96</th>\n",
       "      <td>0</td>\n",
       "      <td>0</td>\n",
       "      <td>41</td>\n",
       "      <td>1</td>\n",
       "      <td>0</td>\n",
       "      <td>0</td>\n",
       "    </tr>\n",
       "    <tr>\n",
       "      <th>97</th>\n",
       "      <td>0</td>\n",
       "      <td>0</td>\n",
       "      <td>77</td>\n",
       "      <td>1</td>\n",
       "      <td>0</td>\n",
       "      <td>1</td>\n",
       "    </tr>\n",
       "    <tr>\n",
       "      <th>98</th>\n",
       "      <td>1</td>\n",
       "      <td>1</td>\n",
       "      <td>77</td>\n",
       "      <td>1</td>\n",
       "      <td>1</td>\n",
       "      <td>1</td>\n",
       "    </tr>\n",
       "    <tr>\n",
       "      <th>99</th>\n",
       "      <td>1</td>\n",
       "      <td>0</td>\n",
       "      <td>105</td>\n",
       "      <td>0</td>\n",
       "      <td>0</td>\n",
       "      <td>0</td>\n",
       "    </tr>\n",
       "    <tr>\n",
       "      <th>100</th>\n",
       "      <td>0</td>\n",
       "      <td>0</td>\n",
       "      <td>68</td>\n",
       "      <td>1</td>\n",
       "      <td>1</td>\n",
       "      <td>0</td>\n",
       "    </tr>\n",
       "  </tbody>\n",
       "</table>\n",
       "<p>101 rows × 6 columns</p>\n",
       "</div>"
      ],
      "text/plain": [
       "     Age  Gender  Speed_of_Impact  Helmet_Used  Seatbelt_Used  Survived\n",
       "0      0       0               27            0              0         1\n",
       "1      0       0               46            0              1         1\n",
       "2      1       1               46            1              1         0\n",
       "3      1       1              117            0              1         0\n",
       "4      0       0               40            1              1         0\n",
       "..   ...     ...              ...          ...            ...       ...\n",
       "96     0       0               41            1              0         0\n",
       "97     0       0               77            1              0         1\n",
       "98     1       1               77            1              1         1\n",
       "99     1       0              105            0              0         0\n",
       "100    0       0               68            1              1         0\n",
       "\n",
       "[101 rows x 6 columns]"
      ]
     },
     "execution_count": 11,
     "metadata": {},
     "output_type": "execute_result"
    }
   ],
   "source": [
    "data.loc[0:100]"
   ]
  },
  {
   "cell_type": "code",
   "execution_count": 12,
   "id": "3bd60ae1",
   "metadata": {
    "execution": {
     "iopub.execute_input": "2025-02-01T06:47:34.044556Z",
     "iopub.status.busy": "2025-02-01T06:47:34.044180Z",
     "iopub.status.idle": "2025-02-01T06:47:34.049319Z",
     "shell.execute_reply": "2025-02-01T06:47:34.048437Z"
    },
    "papermill": {
     "duration": 0.015685,
     "end_time": "2025-02-01T06:47:34.050810",
     "exception": false,
     "start_time": "2025-02-01T06:47:34.035125",
     "status": "completed"
    },
    "tags": []
   },
   "outputs": [],
   "source": [
    "data['Speed_of_Impact'] = data['Speed_of_Impact'].apply(lambda x: 1 if x<85 else 0).astype(int)"
   ]
  },
  {
   "cell_type": "code",
   "execution_count": 13,
   "id": "07dc9b76",
   "metadata": {
    "execution": {
     "iopub.execute_input": "2025-02-01T06:47:34.064405Z",
     "iopub.status.busy": "2025-02-01T06:47:34.063994Z",
     "iopub.status.idle": "2025-02-01T06:47:34.071479Z",
     "shell.execute_reply": "2025-02-01T06:47:34.070473Z"
    },
    "papermill": {
     "duration": 0.016092,
     "end_time": "2025-02-01T06:47:34.073168",
     "exception": false,
     "start_time": "2025-02-01T06:47:34.057076",
     "status": "completed"
    },
    "tags": []
   },
   "outputs": [
    {
     "data": {
      "text/plain": [
       "Age                0\n",
       "Gender             0\n",
       "Speed_of_Impact    0\n",
       "Helmet_Used        0\n",
       "Seatbelt_Used      0\n",
       "Survived           0\n",
       "dtype: int64"
      ]
     },
     "execution_count": 13,
     "metadata": {},
     "output_type": "execute_result"
    }
   ],
   "source": [
    "data.isnull().sum()"
   ]
  },
  {
   "cell_type": "code",
   "execution_count": 14,
   "id": "8726681a",
   "metadata": {
    "execution": {
     "iopub.execute_input": "2025-02-01T06:47:34.086966Z",
     "iopub.status.busy": "2025-02-01T06:47:34.086637Z",
     "iopub.status.idle": "2025-02-01T06:47:36.117016Z",
     "shell.execute_reply": "2025-02-01T06:47:36.115878Z"
    },
    "papermill": {
     "duration": 2.039061,
     "end_time": "2025-02-01T06:47:36.118691",
     "exception": false,
     "start_time": "2025-02-01T06:47:34.079630",
     "status": "completed"
    },
    "tags": []
   },
   "outputs": [
    {
     "data": {
      "image/png": "[encoded data removed]",
      "text/plain": [
       "<Figure size 640x480 with 2 Axes>"
      ]
     },
     "metadata": {},
     "output_type": "display_data"
    }
   ],
   "source": [
    "import seaborn as sns\n",
    "import matplotlib.pyplot as plt\n",
    "\n",
    "c = data.corr()\n",
    "\n",
    "sns.heatmap(c,annot=True)\n",
    "plt.show()"
   ]
  },
  {
   "cell_type": "code",
   "execution_count": 15,
   "id": "554681ad",
   "metadata": {
    "execution": {
     "iopub.execute_input": "2025-02-01T06:47:36.135421Z",
     "iopub.status.busy": "2025-02-01T06:47:36.134819Z",
     "iopub.status.idle": "2025-02-01T06:47:36.735596Z",
     "shell.execute_reply": "2025-02-01T06:47:36.734635Z"
    },
    "papermill": {
     "duration": 0.610756,
     "end_time": "2025-02-01T06:47:36.737448",
     "exception": false,
     "start_time": "2025-02-01T06:47:36.126692",
     "status": "completed"
    },
    "tags": []
   },
   "outputs": [],
   "source": [
    "from sklearn.linear_model import LogisticRegression\n",
    "from sklearn.tree import DecisionTreeClassifier\n",
    "from sklearn.model_selection import train_test_split\n",
    "from sklearn.metrics import classification_report"
   ]
  },
  {
   "cell_type": "code",
   "execution_count": 16,
   "id": "b51059da",
   "metadata": {
    "execution": {
     "iopub.execute_input": "2025-02-01T06:47:36.753872Z",
     "iopub.status.busy": "2025-02-01T06:47:36.753483Z",
     "iopub.status.idle": "2025-02-01T06:47:36.758772Z",
     "shell.execute_reply": "2025-02-01T06:47:36.757765Z"
    },
    "papermill": {
     "duration": 0.015294,
     "end_time": "2025-02-01T06:47:36.760322",
     "exception": false,
     "start_time": "2025-02-01T06:47:36.745028",
     "status": "completed"
    },
    "tags": []
   },
   "outputs": [],
   "source": [
    "X = data.iloc[:,:-1]\n",
    "y = data.iloc[:,-1]"
   ]
  },
  {
   "cell_type": "code",
   "execution_count": 17,
   "id": "b5d62760",
   "metadata": {
    "execution": {
     "iopub.execute_input": "2025-02-01T06:47:36.776285Z",
     "iopub.status.busy": "2025-02-01T06:47:36.775921Z",
     "iopub.status.idle": "2025-02-01T06:47:36.782450Z",
     "shell.execute_reply": "2025-02-01T06:47:36.781545Z"
    },
    "papermill": {
     "duration": 0.016444,
     "end_time": "2025-02-01T06:47:36.784249",
     "exception": false,
     "start_time": "2025-02-01T06:47:36.767805",
     "status": "completed"
    },
    "tags": []
   },
   "outputs": [],
   "source": [
    "X_train,X_test,y_train,y_test = train_test_split(X,y,test_size=0.3,random_state=1)"
   ]
  },
  {
   "cell_type": "code",
   "execution_count": 18,
   "id": "0dca9296",
   "metadata": {
    "execution": {
     "iopub.execute_input": "2025-02-01T06:47:36.800469Z",
     "iopub.status.busy": "2025-02-01T06:47:36.800035Z",
     "iopub.status.idle": "2025-02-01T06:47:36.824825Z",
     "shell.execute_reply": "2025-02-01T06:47:36.823771Z"
    },
    "papermill": {
     "duration": 0.034733,
     "end_time": "2025-02-01T06:47:36.826621",
     "exception": false,
     "start_time": "2025-02-01T06:47:36.791888",
     "status": "completed"
    },
    "tags": []
   },
   "outputs": [
    {
     "data": {
      "text/html": [
       "<style>#sk-container-id-1 {color: black;background-color: white;}#sk-container-id-1 pre{padding: 0;}#sk-container-id-1 div.sk-toggleable {background-color: white;}#sk-container-id-1 label.sk-toggleable__label {cursor: pointer;display: block;width: 100%;margin-bottom: 0;padding: 0.3em;box-sizing: border-box;text-align: center;}#sk-container-id-1 label.sk-toggleable__label-arrow:before {content: \"▸\";float: left;margin-right: 0.25em;color: #696969;}#sk-container-id-1 label.sk-toggleable__label-arrow:hover:before {color: black;}#sk-container-id-1 div.sk-estimator:hover label.sk-toggleable__label-arrow:before {color: black;}#sk-container-id-1 div.sk-toggleable__content {max-height: 0;max-width: 0;overflow: hidden;text-align: left;background-color: #f0f8ff;}#sk-container-id-1 div.sk-toggleable__content pre {margin: 0.2em;color: black;border-radius: 0.25em;background-color: #f0f8ff;}#sk-container-id-1 input.sk-toggleable__control:checked~div.sk-toggleable__content {max-height: 200px;max-width: 100%;overflow: auto;}#sk-container-id-1 input.sk-toggleable__control:checked~label.sk-toggleable__label-arrow:before {content: \"▾\";}#sk-container-id-1 div.sk-estimator input.sk-toggleable__control:checked~label.sk-toggleable__label {background-color: #d4ebff;}#sk-container-id-1 div.sk-label input.sk-toggleable__control:checked~label.sk-toggleable__label {background-color: #d4ebff;}#sk-container-id-1 input.sk-hidden--visually {border: 0;clip: rect(1px 1px 1px 1px);clip: rect(1px, 1px, 1px, 1px);height: 1px;margin: -1px;overflow: hidden;padding: 0;position: absolute;width: 1px;}#sk-container-id-1 div.sk-estimator {font-family: monospace;background-color: #f0f8ff;border: 1px dotted black;border-radius: 0.25em;box-sizing: border-box;margin-bottom: 0.5em;}#sk-container-id-1 div.sk-estimator:hover {background-color: #d4ebff;}#sk-container-id-1 div.sk-parallel-item::after {content: \"\";width: 100%;border-bottom: 1px solid gray;flex-grow: 1;}#sk-container-id-1 div.sk-label:hover label.sk-toggleable__label {background-color: #d4ebff;}#sk-container-id-1 div.sk-serial::before {content: \"\";position: absolute;border-left: 1px solid gray;box-sizing: border-box;top: 0;bottom: 0;left: 50%;z-index: 0;}#sk-container-id-1 div.sk-serial {display: flex;flex-direction: column;align-items: center;background-color: white;padding-right: 0.2em;padding-left: 0.2em;position: relative;}#sk-container-id-1 div.sk-item {position: relative;z-index: 1;}#sk-container-id-1 div.sk-parallel {display: flex;align-items: stretch;justify-content: center;background-color: white;position: relative;}#sk-container-id-1 div.sk-item::before, #sk-container-id-1 div.sk-parallel-item::before {content: \"\";position: absolute;border-left: 1px solid gray;box-sizing: border-box;top: 0;bottom: 0;left: 50%;z-index: -1;}#sk-container-id-1 div.sk-parallel-item {display: flex;flex-direction: column;z-index: 1;position: relative;background-color: white;}#sk-container-id-1 div.sk-parallel-item:first-child::after {align-self: flex-end;width: 50%;}#sk-container-id-1 div.sk-parallel-item:last-child::after {align-self: flex-start;width: 50%;}#sk-container-id-1 div.sk-parallel-item:only-child::after {width: 0;}#sk-container-id-1 div.sk-dashed-wrapped {border: 1px dashed gray;margin: 0 0.4em 0.5em 0.4em;box-sizing: border-box;padding-bottom: 0.4em;background-color: white;}#sk-container-id-1 div.sk-label label {font-family: monospace;font-weight: bold;display: inline-block;line-height: 1.2em;}#sk-container-id-1 div.sk-label-container {text-align: center;}#sk-container-id-1 div.sk-container {/* jupyter's `normalize.less` sets `[hidden] { display: none; }` but bootstrap.min.css set `[hidden] { display: none !important; }` so we also need the `!important` here to be able to override the default hidden behavior on the sphinx rendered scikit-learn.org. See: https://github.com/scikit-learn/scikit-learn/issues/21755 */display: inline-block !important;position: relative;}#sk-container-id-1 div.sk-text-repr-fallback {display: none;}</style><div id=\"sk-container-id-1\" class=\"sk-top-container\"><div class=\"sk-text-repr-fallback\"><pre>LogisticRegression()</pre><b>In a Jupyter environment, please rerun this cell to show the HTML representation or trust the notebook. <br />On GitHub, the HTML representation is unable to render, please try loading this page with nbviewer.org.</b></div><div class=\"sk-container\" hidden><div class=\"sk-item\"><div class=\"sk-estimator sk-toggleable\"><input class=\"sk-toggleable__control sk-hidden--visually\" id=\"sk-estimator-id-1\" type=\"checkbox\" checked><label for=\"sk-estimator-id-1\" class=\"sk-toggleable__label sk-toggleable__label-arrow\">LogisticRegression</label><div class=\"sk-toggleable__content\"><pre>LogisticRegression()</pre></div></div></div></div></div>"
      ],
      "text/plain": [
       "LogisticRegression()"
      ]
     },
     "execution_count": 18,
     "metadata": {},
     "output_type": "execute_result"
    }
   ],
   "source": [
    "logic = LogisticRegression()\n",
    "logic.fit(X_train,y_train)"
   ]
  },
  {
   "cell_type": "code",
   "execution_count": 19,
   "id": "31067aad",
   "metadata": {
    "execution": {
     "iopub.execute_input": "2025-02-01T06:47:36.843265Z",
     "iopub.status.busy": "2025-02-01T06:47:36.842877Z",
     "iopub.status.idle": "2025-02-01T06:47:36.851461Z",
     "shell.execute_reply": "2025-02-01T06:47:36.850381Z"
    },
    "papermill": {
     "duration": 0.018591,
     "end_time": "2025-02-01T06:47:36.853129",
     "exception": false,
     "start_time": "2025-02-01T06:47:36.834538",
     "status": "completed"
    },
    "tags": []
   },
   "outputs": [
    {
     "data": {
      "text/plain": [
       "array([0, 1, 1, 1, 1, 1, 1, 1, 0, 0, 1, 0, 1, 0, 0, 1, 1, 1, 0, 1, 1, 0,\n",
       "       1, 1, 1, 1, 1, 1, 0, 0, 0, 0, 0, 0, 0, 0, 1, 0, 0, 1, 1, 1, 1, 1,\n",
       "       1, 0, 1, 0, 1, 0, 1, 0, 1, 1, 1, 1, 1, 0, 1, 0])"
      ]
     },
     "execution_count": 19,
     "metadata": {},
     "output_type": "execute_result"
    }
   ],
   "source": [
    "y_pred = logic.predict(X_test)\n",
    "y_pred"
   ]
  },
  {
   "cell_type": "code",
   "execution_count": 20,
   "id": "92c86386",
   "metadata": {
    "execution": {
     "iopub.execute_input": "2025-02-01T06:47:36.870405Z",
     "iopub.status.busy": "2025-02-01T06:47:36.870005Z",
     "iopub.status.idle": "2025-02-01T06:47:36.883677Z",
     "shell.execute_reply": "2025-02-01T06:47:36.882579Z"
    },
    "papermill": {
     "duration": 0.023959,
     "end_time": "2025-02-01T06:47:36.885221",
     "exception": false,
     "start_time": "2025-02-01T06:47:36.861262",
     "status": "completed"
    },
    "tags": []
   },
   "outputs": [
    {
     "name": "stdout",
     "output_type": "stream",
     "text": [
      "              precision    recall  f1-score   support\n",
      "\n",
      "           0       0.62      0.45      0.53        33\n",
      "           1       0.50      0.67      0.57        27\n",
      "\n",
      "    accuracy                           0.55        60\n",
      "   macro avg       0.56      0.56      0.55        60\n",
      "weighted avg       0.57      0.55      0.55        60\n",
      "\n"
     ]
    }
   ],
   "source": [
    "cls = classification_report(y_test,y_pred)\n",
    "print(cls)"
   ]
  },
  {
   "cell_type": "code",
   "execution_count": 21,
   "id": "1599d0a4",
   "metadata": {
    "execution": {
     "iopub.execute_input": "2025-02-01T06:47:36.902197Z",
     "iopub.status.busy": "2025-02-01T06:47:36.901843Z",
     "iopub.status.idle": "2025-02-01T06:47:36.912398Z",
     "shell.execute_reply": "2025-02-01T06:47:36.911376Z"
    },
    "papermill": {
     "duration": 0.02071,
     "end_time": "2025-02-01T06:47:36.913956",
     "exception": false,
     "start_time": "2025-02-01T06:47:36.893246",
     "status": "completed"
    },
    "tags": []
   },
   "outputs": [
    {
     "data": {
      "text/html": [
       "<style>#sk-container-id-2 {color: black;background-color: white;}#sk-container-id-2 pre{padding: 0;}#sk-container-id-2 div.sk-toggleable {background-color: white;}#sk-container-id-2 label.sk-toggleable__label {cursor: pointer;display: block;width: 100%;margin-bottom: 0;padding: 0.3em;box-sizing: border-box;text-align: center;}#sk-container-id-2 label.sk-toggleable__label-arrow:before {content: \"▸\";float: left;margin-right: 0.25em;color: #696969;}#sk-container-id-2 label.sk-toggleable__label-arrow:hover:before {color: black;}#sk-container-id-2 div.sk-estimator:hover label.sk-toggleable__label-arrow:before {color: black;}#sk-container-id-2 div.sk-toggleable__content {max-height: 0;max-width: 0;overflow: hidden;text-align: left;background-color: #f0f8ff;}#sk-container-id-2 div.sk-toggleable__content pre {margin: 0.2em;color: black;border-radius: 0.25em;background-color: #f0f8ff;}#sk-container-id-2 input.sk-toggleable__control:checked~div.sk-toggleable__content {max-height: 200px;max-width: 100%;overflow: auto;}#sk-container-id-2 input.sk-toggleable__control:checked~label.sk-toggleable__label-arrow:before {content: \"▾\";}#sk-container-id-2 div.sk-estimator input.sk-toggleable__control:checked~label.sk-toggleable__label {background-color: #d4ebff;}#sk-container-id-2 div.sk-label input.sk-toggleable__control:checked~label.sk-toggleable__label {background-color: #d4ebff;}#sk-container-id-2 input.sk-hidden--visually {border: 0;clip: rect(1px 1px 1px 1px);clip: rect(1px, 1px, 1px, 1px);height: 1px;margin: -1px;overflow: hidden;padding: 0;position: absolute;width: 1px;}#sk-container-id-2 div.sk-estimator {font-family: monospace;background-color: #f0f8ff;border: 1px dotted black;border-radius: 0.25em;box-sizing: border-box;margin-bottom: 0.5em;}#sk-container-id-2 div.sk-estimator:hover {background-color: #d4ebff;}#sk-container-id-2 div.sk-parallel-item::after {content: \"\";width: 100%;border-bottom: 1px solid gray;flex-grow: 1;}#sk-container-id-2 div.sk-label:hover label.sk-toggleable__label {background-color: #d4ebff;}#sk-container-id-2 div.sk-serial::before {content: \"\";position: absolute;border-left: 1px solid gray;box-sizing: border-box;top: 0;bottom: 0;left: 50%;z-index: 0;}#sk-container-id-2 div.sk-serial {display: flex;flex-direction: column;align-items: center;background-color: white;padding-right: 0.2em;padding-left: 0.2em;position: relative;}#sk-container-id-2 div.sk-item {position: relative;z-index: 1;}#sk-container-id-2 div.sk-parallel {display: flex;align-items: stretch;justify-content: center;background-color: white;position: relative;}#sk-container-id-2 div.sk-item::before, #sk-container-id-2 div.sk-parallel-item::before {content: \"\";position: absolute;border-left: 1px solid gray;box-sizing: border-box;top: 0;bottom: 0;left: 50%;z-index: -1;}#sk-container-id-2 div.sk-parallel-item {display: flex;flex-direction: column;z-index: 1;position: relative;background-color: white;}#sk-container-id-2 div.sk-parallel-item:first-child::after {align-self: flex-end;width: 50%;}#sk-container-id-2 div.sk-parallel-item:last-child::after {align-self: flex-start;width: 50%;}#sk-container-id-2 div.sk-parallel-item:only-child::after {width: 0;}#sk-container-id-2 div.sk-dashed-wrapped {border: 1px dashed gray;margin: 0 0.4em 0.5em 0.4em;box-sizing: border-box;padding-bottom: 0.4em;background-color: white;}#sk-container-id-2 div.sk-label label {font-family: monospace;font-weight: bold;display: inline-block;line-height: 1.2em;}#sk-container-id-2 div.sk-label-container {text-align: center;}#sk-container-id-2 div.sk-container {/* jupyter's `normalize.less` sets `[hidden] { display: none; }` but bootstrap.min.css set `[hidden] { display: none !important; }` so we also need the `!important` here to be able to override the default hidden behavior on the sphinx rendered scikit-learn.org. See: https://github.com/scikit-learn/scikit-learn/issues/21755 */display: inline-block !important;position: relative;}#sk-container-id-2 div.sk-text-repr-fallback {display: none;}</style><div id=\"sk-container-id-2\" class=\"sk-top-container\"><div class=\"sk-text-repr-fallback\"><pre>DecisionTreeClassifier(max_depth=4)</pre><b>In a Jupyter environment, please rerun this cell to show the HTML representation or trust the notebook. <br />On GitHub, the HTML representation is unable to render, please try loading this page with nbviewer.org.</b></div><div class=\"sk-container\" hidden><div class=\"sk-item\"><div class=\"sk-estimator sk-toggleable\"><input class=\"sk-toggleable__control sk-hidden--visually\" id=\"sk-estimator-id-2\" type=\"checkbox\" checked><label for=\"sk-estimator-id-2\" class=\"sk-toggleable__label sk-toggleable__label-arrow\">DecisionTreeClassifier</label><div class=\"sk-toggleable__content\"><pre>DecisionTreeClassifier(max_depth=4)</pre></div></div></div></div></div>"
      ],
      "text/plain": [
       "DecisionTreeClassifier(max_depth=4)"
      ]
     },
     "execution_count": 21,
     "metadata": {},
     "output_type": "execute_result"
    }
   ],
   "source": [
    "dec = DecisionTreeClassifier(criterion='gini',max_depth=4)\n",
    "dec.fit(X_train,y_train)"
   ]
  },
  {
   "cell_type": "code",
   "execution_count": 22,
   "id": "fdb84ba0",
   "metadata": {
    "execution": {
     "iopub.execute_input": "2025-02-01T06:47:36.931212Z",
     "iopub.status.busy": "2025-02-01T06:47:36.930807Z",
     "iopub.status.idle": "2025-02-01T06:47:36.938656Z",
     "shell.execute_reply": "2025-02-01T06:47:36.937771Z"
    },
    "papermill": {
     "duration": 0.018432,
     "end_time": "2025-02-01T06:47:36.940508",
     "exception": false,
     "start_time": "2025-02-01T06:47:36.922076",
     "status": "completed"
    },
    "tags": []
   },
   "outputs": [
    {
     "data": {
      "text/plain": [
       "array([0, 1, 0, 1, 1, 0, 1, 1, 0, 1, 0, 0, 0, 1, 0, 1, 0, 1, 0, 1, 0, 0,\n",
       "       1, 1, 0, 1, 1, 0, 0, 0, 0, 0, 0, 0, 0, 0, 1, 0, 1, 1, 1, 0, 1, 0,\n",
       "       1, 0, 0, 0, 0, 0, 0, 0, 0, 1, 1, 0, 0, 0, 0, 0])"
      ]
     },
     "execution_count": 22,
     "metadata": {},
     "output_type": "execute_result"
    }
   ],
   "source": [
    "yy_pred = dec.predict(X_test)\n",
    "yy_pred"
   ]
  },
  {
   "cell_type": "code",
   "execution_count": 23,
   "id": "640a362d",
   "metadata": {
    "execution": {
     "iopub.execute_input": "2025-02-01T06:47:36.958279Z",
     "iopub.status.busy": "2025-02-01T06:47:36.957912Z",
     "iopub.status.idle": "2025-02-01T06:47:36.970376Z",
     "shell.execute_reply": "2025-02-01T06:47:36.969189Z"
    },
    "papermill": {
     "duration": 0.023156,
     "end_time": "2025-02-01T06:47:36.971921",
     "exception": false,
     "start_time": "2025-02-01T06:47:36.948765",
     "status": "completed"
    },
    "tags": []
   },
   "outputs": [
    {
     "name": "stdout",
     "output_type": "stream",
     "text": [
      "              precision    recall  f1-score   support\n",
      "\n",
      "           0       0.58      0.67      0.62        33\n",
      "           1       0.50      0.41      0.45        27\n",
      "\n",
      "    accuracy                           0.55        60\n",
      "   macro avg       0.54      0.54      0.53        60\n",
      "weighted avg       0.54      0.55      0.54        60\n",
      "\n"
     ]
    }
   ],
   "source": [
    "cls1 = classification_report(y_test,yy_pred)\n",
    "print(cls1)"
   ]
  },
  {
   "cell_type": "code",
   "execution_count": 24,
   "id": "3c2e7d56",
   "metadata": {
    "execution": {
     "iopub.execute_input": "2025-02-01T06:47:36.989341Z",
     "iopub.status.busy": "2025-02-01T06:47:36.988913Z",
     "iopub.status.idle": "2025-02-01T06:47:36.993422Z",
     "shell.execute_reply": "2025-02-01T06:47:36.992227Z"
    },
    "papermill": {
     "duration": 0.015222,
     "end_time": "2025-02-01T06:47:36.995301",
     "exception": false,
     "start_time": "2025-02-01T06:47:36.980079",
     "status": "completed"
    },
    "tags": []
   },
   "outputs": [],
   "source": [
    "from sklearn.neighbors import KNeighborsClassifier"
   ]
  },
  {
   "cell_type": "code",
   "execution_count": 25,
   "id": "82995040",
   "metadata": {
    "execution": {
     "iopub.execute_input": "2025-02-01T06:47:37.013291Z",
     "iopub.status.busy": "2025-02-01T06:47:37.012855Z",
     "iopub.status.idle": "2025-02-01T06:47:37.022668Z",
     "shell.execute_reply": "2025-02-01T06:47:37.021630Z"
    },
    "papermill": {
     "duration": 0.020535,
     "end_time": "2025-02-01T06:47:37.024260",
     "exception": false,
     "start_time": "2025-02-01T06:47:37.003725",
     "status": "completed"
    },
    "tags": []
   },
   "outputs": [
    {
     "data": {
      "text/html": [
       "<style>#sk-container-id-3 {color: black;background-color: white;}#sk-container-id-3 pre{padding: 0;}#sk-container-id-3 div.sk-toggleable {background-color: white;}#sk-container-id-3 label.sk-toggleable__label {cursor: pointer;display: block;width: 100%;margin-bottom: 0;padding: 0.3em;box-sizing: border-box;text-align: center;}#sk-container-id-3 label.sk-toggleable__label-arrow:before {content: \"▸\";float: left;margin-right: 0.25em;color: #696969;}#sk-container-id-3 label.sk-toggleable__label-arrow:hover:before {color: black;}#sk-container-id-3 div.sk-estimator:hover label.sk-toggleable__label-arrow:before {color: black;}#sk-container-id-3 div.sk-toggleable__content {max-height: 0;max-width: 0;overflow: hidden;text-align: left;background-color: #f0f8ff;}#sk-container-id-3 div.sk-toggleable__content pre {margin: 0.2em;color: black;border-radius: 0.25em;background-color: #f0f8ff;}#sk-container-id-3 input.sk-toggleable__control:checked~div.sk-toggleable__content {max-height: 200px;max-width: 100%;overflow: auto;}#sk-container-id-3 input.sk-toggleable__control:checked~label.sk-toggleable__label-arrow:before {content: \"▾\";}#sk-container-id-3 div.sk-estimator input.sk-toggleable__control:checked~label.sk-toggleable__label {background-color: #d4ebff;}#sk-container-id-3 div.sk-label input.sk-toggleable__control:checked~label.sk-toggleable__label {background-color: #d4ebff;}#sk-container-id-3 input.sk-hidden--visually {border: 0;clip: rect(1px 1px 1px 1px);clip: rect(1px, 1px, 1px, 1px);height: 1px;margin: -1px;overflow: hidden;padding: 0;position: absolute;width: 1px;}#sk-container-id-3 div.sk-estimator {font-family: monospace;background-color: #f0f8ff;border: 1px dotted black;border-radius: 0.25em;box-sizing: border-box;margin-bottom: 0.5em;}#sk-container-id-3 div.sk-estimator:hover {background-color: #d4ebff;}#sk-container-id-3 div.sk-parallel-item::after {content: \"\";width: 100%;border-bottom: 1px solid gray;flex-grow: 1;}#sk-container-id-3 div.sk-label:hover label.sk-toggleable__label {background-color: #d4ebff;}#sk-container-id-3 div.sk-serial::before {content: \"\";position: absolute;border-left: 1px solid gray;box-sizing: border-box;top: 0;bottom: 0;left: 50%;z-index: 0;}#sk-container-id-3 div.sk-serial {display: flex;flex-direction: column;align-items: center;background-color: white;padding-right: 0.2em;padding-left: 0.2em;position: relative;}#sk-container-id-3 div.sk-item {position: relative;z-index: 1;}#sk-container-id-3 div.sk-parallel {display: flex;align-items: stretch;justify-content: center;background-color: white;position: relative;}#sk-container-id-3 div.sk-item::before, #sk-container-id-3 div.sk-parallel-item::before {content: \"\";position: absolute;border-left: 1px solid gray;box-sizing: border-box;top: 0;bottom: 0;left: 50%;z-index: -1;}#sk-container-id-3 div.sk-parallel-item {display: flex;flex-direction: column;z-index: 1;position: relative;background-color: white;}#sk-container-id-3 div.sk-parallel-item:first-child::after {align-self: flex-end;width: 50%;}#sk-container-id-3 div.sk-parallel-item:last-child::after {align-self: flex-start;width: 50%;}#sk-container-id-3 div.sk-parallel-item:only-child::after {width: 0;}#sk-container-id-3 div.sk-dashed-wrapped {border: 1px dashed gray;margin: 0 0.4em 0.5em 0.4em;box-sizing: border-box;padding-bottom: 0.4em;background-color: white;}#sk-container-id-3 div.sk-label label {font-family: monospace;font-weight: bold;display: inline-block;line-height: 1.2em;}#sk-container-id-3 div.sk-label-container {text-align: center;}#sk-container-id-3 div.sk-container {/* jupyter's `normalize.less` sets `[hidden] { display: none; }` but bootstrap.min.css set `[hidden] { display: none !important; }` so we also need the `!important` here to be able to override the default hidden behavior on the sphinx rendered scikit-learn.org. See: https://github.com/scikit-learn/scikit-learn/issues/21755 */display: inline-block !important;position: relative;}#sk-container-id-3 div.sk-text-repr-fallback {display: none;}</style><div id=\"sk-container-id-3\" class=\"sk-top-container\"><div class=\"sk-text-repr-fallback\"><pre>KNeighborsClassifier()</pre><b>In a Jupyter environment, please rerun this cell to show the HTML representation or trust the notebook. <br />On GitHub, the HTML representation is unable to render, please try loading this page with nbviewer.org.</b></div><div class=\"sk-container\" hidden><div class=\"sk-item\"><div class=\"sk-estimator sk-toggleable\"><input class=\"sk-toggleable__control sk-hidden--visually\" id=\"sk-estimator-id-3\" type=\"checkbox\" checked><label for=\"sk-estimator-id-3\" class=\"sk-toggleable__label sk-toggleable__label-arrow\">KNeighborsClassifier</label><div class=\"sk-toggleable__content\"><pre>KNeighborsClassifier()</pre></div></div></div></div></div>"
      ],
      "text/plain": [
       "KNeighborsClassifier()"
      ]
     },
     "execution_count": 25,
     "metadata": {},
     "output_type": "execute_result"
    }
   ],
   "source": [
    "m  = KNeighborsClassifier(n_neighbors=5)\n",
    "m.fit(X_train,y_train)"
   ]
  },
  {
   "cell_type": "code",
   "execution_count": 26,
   "id": "bc98dd93",
   "metadata": {
    "execution": {
     "iopub.execute_input": "2025-02-01T06:47:37.042846Z",
     "iopub.status.busy": "2025-02-01T06:47:37.042515Z",
     "iopub.status.idle": "2025-02-01T06:47:37.059700Z",
     "shell.execute_reply": "2025-02-01T06:47:37.058507Z"
    },
    "papermill": {
     "duration": 0.028488,
     "end_time": "2025-02-01T06:47:37.061455",
     "exception": false,
     "start_time": "2025-02-01T06:47:37.032967",
     "status": "completed"
    },
    "tags": []
   },
   "outputs": [
    {
     "name": "stdout",
     "output_type": "stream",
     "text": [
      "              precision    recall  f1-score   support\n",
      "\n",
      "           0       0.56      0.45      0.50        33\n",
      "           1       0.45      0.56      0.50        27\n",
      "\n",
      "    accuracy                           0.50        60\n",
      "   macro avg       0.51      0.51      0.50        60\n",
      "weighted avg       0.51      0.50      0.50        60\n",
      "\n"
     ]
    }
   ],
   "source": [
    "cls2 = classification_report(y_test,m.predict(X_test))\n",
    "print(cls2)"
   ]
  }
 ],
 "metadata": {
  "kaggle": {
   "accelerator": "none",
   "dataSources": [
    {
     "datasetId": 6502557,
     "sourceId": 10503525,
     "sourceType": "datasetVersion"
    }
   ],
   "dockerImageVersionId": 30839,
   "isGpuEnabled": false,
   "isInternetEnabled": true,
   "language": "python",
   "sourceType": "notebook"
  },
  "kernelspec": {
   "display_name": "Python 3",
   "language": "python",
   "name": "python3"
  },
  "language_info": {
   "codemirror_mode": {
    "name": "ipython",
    "version": 3
   },
   "file_extension": ".py",
   "mimetype": "text/x-python",
   "name": "python",
   "nbconvert_exporter": "python",
   "pygments_lexer": "ipython3",
   "version": "3.11.9"
  },
  "papermill": {
   "default_parameters": {},
   "duration": 7.750786,
   "end_time": "2025-02-01T06:47:37.789871",
   "environment_variables": {},
   "exception": null,
   "input_path": "__notebook__.ipynb",
   "output_path": "__notebook__.ipynb",
   "parameters": {},
   "start_time": "2025-02-01T06:47:30.039085",
   "version": "2.6.0"
  }
 },
 "nbformat": 4,
 "nbformat_minor": 5
}
