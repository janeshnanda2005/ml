{
 "cells": [
  {
   "cell_type": "code",
   "execution_count": null,
   "id": "5f92afeb-636d-4c76-884b-088175f18882",
   "metadata": {},
   "outputs": [],
   "source": []
  }
 ],
 "metadata": {
  "kernelspec": {
   "display_name": "",
   "name": ""
  },
  "language_info": {
   "name": ""
  }
 },
 "nbformat": 4,
 "nbformat_minor": 5
}
